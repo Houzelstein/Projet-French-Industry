{
  "nbformat": 4,
  "nbformat_minor": 0,
  "metadata": {
    "colab": {
      "provenance": []
    },
    "kernelspec": {
      "name": "python3",
      "display_name": "Python 3"
    },
    "language_info": {
      "name": "python"
    }
  },
  "cells": [
    {
      "cell_type": "code",
      "execution_count": null,
      "metadata": {
        "colab": {
          "base_uri": "https://localhost:8080/"
        },
        "id": "xEY2kreTStsp",
        "outputId": "a8cf2739-97e7-4fa1-a8a5-37e5f9541ab0"
      },
      "outputs": [
        {
          "output_type": "stream",
          "name": "stdout",
          "text": [
            "Mounted at /content/drive\n"
          ]
        }
      ],
      "source": [
        "from google.colab import drive\n",
        "drive.mount('/content/drive')"
      ]
    },
    {
      "cell_type": "code",
      "source": [
        "import numpy as np\n",
        "import pandas as pd\n",
        "!pip install geopandas\n",
        "import geopandas as gpd\n",
        "from scipy.optimize import curve_fit\n",
        "import seaborn as sns\n",
        "sns.set_theme()\n",
        "\n",
        "from math import radians, cos, sin, asin, sqrt\n",
        "\n",
        "!pip install basemap\n",
        "from mpl_toolkits.basemap import Basemap\n",
        "import matplotlib.pyplot as plt\n",
        "import matplotlib.colors as colors\n",
        "%matplotlib inline\n",
        "\n",
        "import plotly.offline as py\n",
        "py.init_notebook_mode(connected=True)\n",
        "import plotly.graph_objs as go\n",
        "import plotly.tools as tls\n",
        "\n",
        "!pip install mapclassify"
      ],
      "metadata": {
        "id": "pcxRyq1fSy7T"
      },
      "execution_count": null,
      "outputs": []
    },
    {
      "cell_type": "markdown",
      "source": [
        "IMPORTATION ET PREMIERE VISUALISATION DE NOS JEUX DE DEONNEES"
      ],
      "metadata": {
        "id": "fQMTYDs6S7QZ"
      }
    },
    {
      "cell_type": "code",
      "source": [
        "# Importation des jeux de données :\n",
        "salaire = pd.read_csv('/content/drive/MyDrive/French Industry/net_salary_per_town_categories.csv', sep = ',')\n",
        "entreprise = pd.read_csv('/content/drive/MyDrive/French Industry/base_etablissement_par_tranche_effectif.csv', sep = ',')\n",
        "geo= pd.read_csv('/content/drive/MyDrive/French Industry/name_geographic_information.csv', sep = ',')\n",
        "population = pd.read_csv('/content/drive/MyDrive/French Industry/population.csv', sep = ',')\n",
        "departements = gpd.read_file('/content/drive/MyDrive/French Industry/departements.geojson')"
      ],
      "metadata": {
        "id": "oXmKYOXcS3q8"
      },
      "execution_count": null,
      "outputs": []
    },
    {
      "cell_type": "code",
      "source": [
        "salaire.head()"
      ],
      "metadata": {
        "id": "KatiA5mOTDB5"
      },
      "execution_count": null,
      "outputs": []
    },
    {
      "cell_type": "code",
      "source": [
        "salaire.info()"
      ],
      "metadata": {
        "id": "kybcaDIdTF9x"
      },
      "execution_count": null,
      "outputs": []
    },
    {
      "cell_type": "code",
      "source": [
        "entreprise.head()"
      ],
      "metadata": {
        "id": "VGc4vgHoTHLc"
      },
      "execution_count": null,
      "outputs": []
    },
    {
      "cell_type": "code",
      "source": [
        "entreprise.info()"
      ],
      "metadata": {
        "id": "5qWjmGbeTIkP"
      },
      "execution_count": null,
      "outputs": []
    },
    {
      "cell_type": "code",
      "source": [
        "geo.head()"
      ],
      "metadata": {
        "id": "hNec4-KqTJ4L"
      },
      "execution_count": null,
      "outputs": []
    },
    {
      "cell_type": "code",
      "source": [
        "geo.info()"
      ],
      "metadata": {
        "id": "Jp4XWgykTLJR"
      },
      "execution_count": null,
      "outputs": []
    },
    {
      "cell_type": "code",
      "source": [
        "population.head()"
      ],
      "metadata": {
        "id": "OXWMUoqqTMe0"
      },
      "execution_count": null,
      "outputs": []
    },
    {
      "cell_type": "code",
      "source": [
        "population.info()"
      ],
      "metadata": {
        "id": "NnphUk-oTPCL"
      },
      "execution_count": null,
      "outputs": []
    },
    {
      "cell_type": "markdown",
      "source": [
        "PREPARATION DES DONNEES "
      ],
      "metadata": {
        "id": "Flert10WTYxH"
      }
    },
    {
      "cell_type": "markdown",
      "source": [
        "DATASET : SALAIRE"
      ],
      "metadata": {
        "id": "TaHxteYgTfF0"
      }
    },
    {
      "cell_type": "code",
      "source": [
        "# Changement du type de la colonne CODGEO \n",
        "salaire = salaire[salaire[\"CODGEO\"].apply(lambda x: str(x).isdigit())]\n",
        "salaire[\"CODGEO\"] = salaire[\"CODGEO\"].astype(int)"
      ],
      "metadata": {
        "id": "FRNwtUPaTQUh"
      },
      "execution_count": null,
      "outputs": []
    },
    {
      "cell_type": "code",
      "source": [
        "# Verification : \n",
        "salaire.info()"
      ],
      "metadata": {
        "id": "xWRXZ2djU5hI"
      },
      "execution_count": null,
      "outputs": []
    },
    {
      "cell_type": "markdown",
      "source": [
        "DATASET : ENTREPRISE"
      ],
      "metadata": {
        "id": "7oCI4ZQrTpFZ"
      }
    },
    {
      "cell_type": "code",
      "source": [
        "# Changement du type de la colonne CODGEO \n",
        "entreprise = entreprise[entreprise[\"CODGEO\"].apply(lambda x: str(x).isdigit())]\n",
        "entreprise[\"CODGEO\"] = entreprise[\"CODGEO\"].astype(int)\n",
        "# Changement du type de la colonne DEP :\n",
        "entreprise[\"DEP\"] = entreprise[\"DEP\"].astype(int)"
      ],
      "metadata": {
        "id": "iUQ7ibO-TlDc"
      },
      "execution_count": null,
      "outputs": []
    },
    {
      "cell_type": "code",
      "source": [
        "# Verification : \n",
        "entreprise.info()"
      ],
      "metadata": {
        "id": "UjbJHrpcU9t8"
      },
      "execution_count": null,
      "outputs": []
    },
    {
      "cell_type": "markdown",
      "source": [
        "PREPARATION POUR VISUALISATION :"
      ],
      "metadata": {
        "id": "HTYKKuv8UxOz"
      }
    },
    {
      "cell_type": "markdown",
      "source": [
        "- CREATION D'UN NOUVEAU DATAFRAME A PARTIR D'ENTREPRISE : "
      ],
      "metadata": {
        "id": "7U5NhtSaVEJd"
      }
    },
    {
      "cell_type": "code",
      "source": [
        "# première partie : on regroupe les colonnes par taille :\n",
        "entreprise_sep['Micro'] = entreprise['E14TS1'] + entreprise['E14TS6']\n",
        "entreprise_sep['Petite'] = entreprise['E14TS10'] + entreprise['E14TS20']\n",
        "entreprise_sep['Medium'] = entreprise['E14TS50'] + entreprise['E14TS100']\n",
        "entreprise_sep['Large'] = entreprise['E14TS200'] + entreprise['E14TS500']\n",
        "entreprise_sep['Sum'] = entreprise['E14TS1'] + entreprise['E14TS6'] + entreprise['E14TS10'] + entreprise['E14TS20'] + entreprise['E14TS50'] + entreprise['E14TS100'] + entreprise['E14TS200'] + entreprise['E14TS500']"
      ],
      "metadata": {
        "id": "BHctppbgTwMr"
      },
      "execution_count": null,
      "outputs": []
    },
    {
      "cell_type": "code",
      "source": [
        "# deuxiieme partie on ajoute les pourcentage des colonnes dans de nouvelles colonnes : \n",
        "entreprise_sep['Micro%'] = entreprise_sep['Micro'] * 100 / entreprise_sep['Sum']\n",
        "entreprise_sep['Petite%'] = entreprise_sep['Petite'] * 100 / entreprise_sep['Sum']\n",
        "entreprise_sep['Medium%'] = entreprise_sep['Medium'] * 100 / entreprise_sep['Sum']\n",
        "entreprise_sep['Large%']= entreprise_sep['Large'] * 100 / entreprise_sep['Sum']"
      ],
      "metadata": {
        "id": "jX2VRlJ4VbAz"
      },
      "execution_count": null,
      "outputs": []
    },
    {
      "cell_type": "code",
      "source": [
        "relevant_columns = ['CODGEO','LIBGEO', 'REG', 'DEP','Sum', 'Micro', 'Petite', 'Medium', 'Large','Micro%', 'Petite%', 'Medium%', 'Large%']\n",
        "entreprise_sep = entreprise_sep[relevant_columns]"
      ],
      "metadata": {
        "id": "FyvkiPIyVuT1"
      },
      "execution_count": null,
      "outputs": []
    },
    {
      "cell_type": "code",
      "source": [
        "entreprise_sep.head()"
      ],
      "metadata": {
        "id": "Ad2IY_IxVz0K"
      },
      "execution_count": null,
      "outputs": []
    },
    {
      "cell_type": "code",
      "source": [
        "entreprise_sep.head()"
      ],
      "metadata": {
        "id": "93a1QAFvV283"
      },
      "execution_count": null,
      "outputs": []
    },
    {
      "cell_type": "code",
      "source": [
        "# On remet la colonne departement en int :\n",
        "entreprise_sep[\"DEP\"] = entreprise_sep[\"DEP\"].astype(int)"
      ],
      "metadata": {
        "id": "iRA3vmZuWvDX"
      },
      "execution_count": null,
      "outputs": []
    },
    {
      "cell_type": "markdown",
      "source": [
        "AFIN DE TRAVAILLER PLUS FACILEMENT ON REGROUPE LE DATASET GEO AVEC ENTREPRISE "
      ],
      "metadata": {
        "id": "pgt9lxGkXK0P"
      }
    },
    {
      "cell_type": "code",
      "source": [
        "# On rassemble les deux dataset geo et entreprise_sep :\n",
        "entreprise_geo = entreprise_sep.merge(geo, how = 'left', left_on = 'CODGEO', right_on = 'code_insee') "
      ],
      "metadata": {
        "id": "JipeOUuXWvIH"
      },
      "execution_count": null,
      "outputs": []
    },
    {
      "cell_type": "code",
      "source": [
        "entreprise_geo.head()"
      ],
      "metadata": {
        "id": "eR_VkIdZWvMj"
      },
      "execution_count": null,
      "outputs": []
    },
    {
      "cell_type": "code",
      "source": [
        "entreprise_geo.info()"
      ],
      "metadata": {
        "id": "EG5PZBWzWvQv"
      },
      "execution_count": null,
      "outputs": []
    },
    {
      "cell_type": "markdown",
      "source": [
        "ON CREER UN NVX DATASET REGION POUR RASSEMBLER NOS INFORMATIONS PAR REGION ET RENDRE NOS VISUELS PLUS LISIBLES"
      ],
      "metadata": {
        "id": "QX5tpgGvXjro"
      }
    },
    {
      "cell_type": "code",
      "source": [
        "# On regroupe par nom de région en faisant la somme, on ne garde que la colonne avec le nombre total d'entreprise :\n",
        "regions = entreprise_geo[[\"nom_région\", \"Sum\"]].groupby(\"nom_région\").sum().sort_values(\"Sum\", ascending=False).reset_index().reset_index()"
      ],
      "metadata": {
        "id": "LS8wZ947WvVJ"
      },
      "execution_count": null,
      "outputs": []
    },
    {
      "cell_type": "code",
      "source": [
        "regions.rename(columns={'index': 'region_rang',}, inplace=True)"
      ],
      "metadata": {
        "id": "3Bj5DvlAWvZn"
      },
      "execution_count": null,
      "outputs": []
    },
    {
      "cell_type": "code",
      "source": [
        "regions.head(20)"
      ],
      "metadata": {
        "id": "IvjWkfpbWvdS"
      },
      "execution_count": null,
      "outputs": []
    },
    {
      "cell_type": "code",
      "source": [
        "# Instanciation d'un barplot :\n",
        "plt.figure(figsize=(40, 20))\n",
        "plt.title(label = 'Classement des entreprises par région')\n",
        "sns.barplot(y= regions['nom_région'], x = regions['Sum'], data=regions);"
      ],
      "metadata": {
        "id": "Fat9UuRqX8sa"
      },
      "execution_count": null,
      "outputs": []
    },
    {
      "cell_type": "markdown",
      "source": [
        "ON MODIFIE LE DATASET GEO DANS LE BUT DE FAIRE UNE CARTE DE LA FRANCE :"
      ],
      "metadata": {
        "id": "K04qzCXtYmVk"
      }
    },
    {
      "cell_type": "code",
      "source": [
        "# On effectue les modification necessaire pour utiliser notre dataset : \n",
        "geo[\"longitude\"] = geo[\"longitude\"].apply(lambda x: str(x).replace(',','.'))\n",
        "\n",
        "mask = geo[\"longitude\"] == '-'\n",
        "geo.drop(geo[mask].index, inplace=True)\n",
        "\n",
        "geo.dropna(subset = [\"longitude\", \"latitude\"], inplace=True)\n",
        "\n",
        "geo[\"longitude\"] = geo[\"longitude\"].astype(float)"
      ],
      "metadata": {
        "id": "kmAFBeHjX8xh"
      },
      "execution_count": null,
      "outputs": []
    },
    {
      "cell_type": "code",
      "source": [
        "geo.drop_duplicates(subset=[\"code_insee\"], keep=\"first\", inplace=True)"
      ],
      "metadata": {
        "id": "zsOUD9rsX82C"
      },
      "execution_count": null,
      "outputs": []
    },
    {
      "cell_type": "code",
      "source": [
        "def distance(lon1, lat1, lon2, lat2):\n",
        "    # convert decimal degrees to radians \n",
        "    lon1 = radians(lon1)\n",
        "    lat1 = radians(lat1)\n",
        "    lon2 = radians(lon2)\n",
        "    lat2 = radians(lat2)\n",
        "    \n",
        "    # haversine formula \n",
        "    dlon = lon2 - lon1 \n",
        "    dlat = lat2 - lat1 \n",
        "    a = sin(dlat/2)**2 + cos(lat1) * cos(lat2) * sin(dlon/2)**2\n",
        "    c = 2 * asin(sqrt(a)) \n",
        "    \n",
        "    # Radius of earth in kilometers is 6371\n",
        "    km = 6371* c\n",
        "    return km\n",
        "\n",
        "def distance_bigger_than(limit, lon1, lat1, lon2, lat2):\n",
        "    dist = distance(lon1, lat1, lon2, lat2)\n",
        "    if dist > limit:\n",
        "        return 0\n",
        "    else:\n",
        "        return 1"
      ],
      "metadata": {
        "id": "3AwpxiN8X86U"
      },
      "execution_count": null,
      "outputs": []
    },
    {
      "cell_type": "code",
      "source": [
        "# Extraction des coordonnées de Paris\n",
        "paris_lat = geo.loc[geo['nom_commune'] == \"Paris\"].iloc[0][\"latitude\"]\n",
        "paris_lon = geo.loc[geo['nom_commune'] == \"Paris\"].iloc[0][\"longitude\"]\n",
        "\n",
        "distances = []\n",
        "\n",
        "# calcule des valeurs de PARIS_CLOSE\n",
        "for index, row in geo.iterrows():\n",
        "    distances.append(distance_bigger_than(30, row[\"longitude\"], row[\"latitude\"], paris_lon, paris_lat))\n",
        "\n",
        "# ajout de la nouvelle colonne a notre dataframe\n",
        "geo[\"PARIS_CLOSE\"] = pd.Series(distances, index=geo.index)"
      ],
      "metadata": {
        "id": "OWL7UkdJX896"
      },
      "execution_count": null,
      "outputs": []
    },
    {
      "cell_type": "code",
      "source": [
        "# Extraction des coordonnée des grandes villes \n",
        "majors =  geo[geo[\"nom_commune\"] == geo[\"chef.lieu_région\"]]\n",
        "major_lats = majors[\"latitude\"].tolist()\n",
        "major_lons = majors[\"longitude\"].tolist()\n",
        "\n",
        "distances = []\n",
        "\n",
        "# calcule des valeurs de MAJOR_CITY_DISTANCE\n",
        "for index, row in geo.iterrows():\n",
        "    \n",
        "    single_distances = []\n",
        "    for lat, lon in zip(major_lats, major_lons):\n",
        "        single_distances.append(int(distance(row[\"longitude\"], row[\"latitude\"], lon, lat)))\n",
        "    \n",
        "    distances.append(min(single_distances))\n",
        "\n",
        "# ajout de la nouvelle colonne a notre dataframe\n",
        "geo[\"MAJOR_CITY_DISTANCE\"] = pd.Series(distances, index=geo.index)"
      ],
      "metadata": {
        "id": "WKPVH0kIX9Bf"
      },
      "execution_count": null,
      "outputs": []
    },
    {
      "cell_type": "markdown",
      "source": [
        "Creation d'un dataset avec seulement la colonne E14TST"
      ],
      "metadata": {
        "id": "c9q3hYtxakyE"
      }
    },
    {
      "cell_type": "code",
      "source": [
        "total_entreprise = entreprise[['CODGEO','LIBGEO', 'REG', 'DEP', 'E14TST']]"
      ],
      "metadata": {
        "id": "JAb86-1dajRV"
      },
      "execution_count": null,
      "outputs": []
    },
    {
      "cell_type": "code",
      "source": [
        "total_entreprise.info()"
      ],
      "metadata": {
        "id": "F7o18dFvaxDC"
      },
      "execution_count": null,
      "outputs": []
    },
    {
      "cell_type": "code",
      "source": [
        "total_entreprise_geo = total_entreprise.merge(geo, how = 'left', left_on = 'CODGEO', right_on = 'code_insee') "
      ],
      "metadata": {
        "id": "nhxrfRJcaiBV"
      },
      "execution_count": null,
      "outputs": []
    },
    {
      "cell_type": "markdown",
      "source": [
        "AJOUT DU DATASET DEPARTEMENTS (AFIN DE DIVISER NOTRE CARTE DE LA FRANCE EN DEPARTEMENTS)"
      ],
      "metadata": {
        "id": "e71-TRPxZ9k_"
      }
    },
    {
      "cell_type": "code",
      "source": [
        "#Visualisation\n",
        "departements.info()"
      ],
      "metadata": {
        "id": "ypBy45mnX9GH"
      },
      "execution_count": null,
      "outputs": []
    },
    {
      "cell_type": "code",
      "source": [
        "# On regroupe par département en faisant la somme \n",
        "entreprises_par_dep = total_entreprise_geo.groupby(\"numéro_département\").sum()\n",
        "# On regroupe avec le dataset departements\n",
        "departements_entre = departements.merge(entreprises_par_dep, how=\"left\", left_on=\"code\", right_index=True)"
      ],
      "metadata": {
        "id": "TnE81CNrX9KH"
      },
      "execution_count": null,
      "outputs": []
    },
    {
      "cell_type": "code",
      "source": [
        "departements_entre.info()"
      ],
      "metadata": {
        "id": "W0lW2C9qX9Nw"
      },
      "execution_count": null,
      "outputs": []
    },
    {
      "cell_type": "code",
      "source": [
        "# On enleve les valeurs manquantes\n",
        "departements_entre.dropna(subset = [\"latitude\"], inplace=True)"
      ],
      "metadata": {
        "id": "PUMJ7Jqhbei5"
      },
      "execution_count": null,
      "outputs": []
    },
    {
      "cell_type": "code",
      "source": [
        "entreprises_par_dep.head()"
      ],
      "metadata": {
        "id": "hIZ_dtPdbjfN"
      },
      "execution_count": null,
      "outputs": []
    },
    {
      "cell_type": "code",
      "source": [
        "entreprises_par_dep.reset_index(level=0, inplace=True)"
      ],
      "metadata": {
        "id": "s3H4OzEVbjkJ"
      },
      "execution_count": null,
      "outputs": []
    },
    {
      "cell_type": "code",
      "source": [
        "fig, ax = plt.subplots(1, figsize=(15,14))\n",
        "ax.set_title('Entreprises par départements', size=20, x = 0.25, y=0.90)\n",
        "fig.patch.set_facecolor((202/255, 204/255, 206/255))\n",
        "departements_entre.plot(ax=ax, column=\"E14TST\", cmap=plt.cm.OrRd, scheme='fisher_jenks', k=20, legend=True)\n",
        "leg = ax.get_legend()\n",
        "ax.set_axis_off()\n",
        "leg.set_bbox_to_anchor((0., 0., 0.2, 0.45))\n",
        "leg.set_title(\"Nombre total d'entreprise\")"
      ],
      "metadata": {
        "id": "Zvr_9-FBbjoH"
      },
      "execution_count": null,
      "outputs": []
    },
    {
      "cell_type": "markdown",
      "source": [
        "VISUALISATION DU DATASET SALAIRE"
      ],
      "metadata": {
        "id": "AW8LMeo4cMe1"
      }
    },
    {
      "cell_type": "markdown",
      "source": [
        "CREATION D'UN NVX DATAFRAME : "
      ],
      "metadata": {
        "id": "AUOihDs0cXP4"
      }
    },
    {
      "cell_type": "code",
      "source": [
        "# Création d'un nouveau dataframe en separant par tranche d'age et sexe \n",
        "new_age = {}\n",
        "new_age[\"SNHMF1814\"] = {\"Genre\": 1, \"Tranche_age\": '18-25'}\n",
        "new_age[\"SNHMF2614\"] = {\"Genre\": 1, \"Tranche_age\": '26-50'}\n",
        "new_age[\"SNHMF5014\"] = {\"Genre\": 1, \"Tranche_age\": '> 50'}\n",
        "new_age[\"SNHMH1814\"] = {\"Genre\": 2, \"Tranche_age\": '18-25'}\n",
        "new_age[\"SNHMH2614\"] = {\"Genre\": 2, \"Tranche_age\": '26-50'}\n",
        "new_age[\"SNHMH5014\"] = {\"Genre\": 2, \"Tranche_age\": '> 50'}\n",
        "\n",
        "reformatted_salaire = []\n",
        "for index, row in salaire.iterrows():\n",
        "    for key, value in new_age.items(): \n",
        "        row_dict = {}\n",
        "        row_dict[\"CODGEO\"] = row[\"CODGEO\"]\n",
        "        row_dict[\"Genre\"] = value[\"Genre\"]\n",
        "        row_dict[\"Tranche_age\"] = value[\"Tranche_age\"]\n",
        "        row_dict[\"Salaire\"] = row[key]\n",
        "        reformatted_salaire.append(row_dict)\n",
        "        \n",
        "new_salaire_age = pd.DataFrame(reformatted_salaire) "
      ],
      "metadata": {
        "id": "8BH5Bs3Lbjr9"
      },
      "execution_count": null,
      "outputs": []
    },
    {
      "cell_type": "code",
      "source": [
        "new_salaire_age.head()"
      ],
      "metadata": {
        "id": "jO00vfoTbjvJ"
      },
      "execution_count": null,
      "outputs": []
    },
    {
      "cell_type": "code",
      "source": [
        "# Graphique montrant les différences de salaires entre les hommes et les femmes par tranche d'âge\n",
        "\n",
        "Salaire_F = new_salaire_age.loc[(new_salaire_age['Genre'] == 1)]\n",
        "Salaire_H = new_salaire_age.loc[(new_salaire_age['Genre'] == 2)]\n",
        "\n",
        "plt.figure(figsize=(20, 8))\n",
        "\n",
        "plt.subplot(121)\n",
        "plt.title(label = 'Salaire des femmes')\n",
        "sns.barplot(x= Salaire_F['Tranche_age'], y = Salaire_F['Salaire'], data=Salaire_F);\n",
        "plt.ylim([0, 20])\n",
        "\n",
        "plt.subplot(122)\n",
        "plt.title(label = 'Salaire des hommes')\n",
        "sns.barplot(x= Salaire_H['Tranche_age'], y =Salaire_H ['Salaire'], data=Salaire_H);\n",
        "plt.ylim([0, 20])"
      ],
      "metadata": {
        "id": "WQBAgQihbjyE"
      },
      "execution_count": null,
      "outputs": []
    },
    {
      "cell_type": "code",
      "source": [
        "# Création d'un nouveau dataframe en separant par sexe et poste :  \n",
        "new = {}\n",
        "new[\"SNHMFC14\"] = {\"Genre\": 1, \"Poste\": 4}\n",
        "new[\"SNHMFP14\"] = {\"Genre\": 1, \"Poste\": 3}\n",
        "new[\"SNHMFE14\"] = {\"Genre\": 1, \"Poste\": 2}\n",
        "new[\"SNHMFO14\"] = {\"Genre\": 1, \"Poste\": 1}\n",
        "new[\"SNHMHC14\"] = {\"Genre\": 2, \"Poste\": 4}\n",
        "new[\"SNHMHP14\"] = {\"Genre\": 2, \"Poste\": 3}\n",
        "new[\"SNHMHE14\"] = {\"Genre\": 2, \"Poste\": 2}\n",
        "new[\"SNHMHO14\"] = {\"Genre\": 2, \"Poste\": 1}\n",
        "\n",
        "reformatted_salaire = []\n",
        "for index, row in salaire.iterrows():\n",
        "    for key, value in new.items(): \n",
        "        row_dict = {}\n",
        "        row_dict[\"CODGEO\"] = row[\"CODGEO\"]\n",
        "        row_dict[\"Genre\"] = value[\"Genre\"]\n",
        "        row_dict[\"Poste\"] = value[\"Poste\"]\n",
        "        row_dict[\"Salaire\"] = row[key]\n",
        "        reformatted_salaire.append(row_dict)\n",
        "        \n",
        "new_salaire = pd.DataFrame(reformatted_salaire) "
      ],
      "metadata": {
        "id": "vtYqKKG_ciOM"
      },
      "execution_count": null,
      "outputs": []
    },
    {
      "cell_type": "code",
      "source": [
        "# Graphique montrant les différences de salaires entre les hommes et les femmes en fonction du poste\n",
        "job_F = new_salaire.loc[(new_salaire['Genre'] == 1)]\n",
        "job_H = new_salaire.loc[(new_salaire['Genre'] == 2)]\n",
        "\n",
        "plt.figure(figsize=(20, 20))\n",
        "\n",
        "plt.subplot(221)\n",
        "plt.title(label = 'Salaire des femmes en fonction de leur poste')\n",
        "sns.barplot(x= job_F['Poste'], y = job_F['Salaire'], data=job_F, label = ['Travailleurs', 'Employés', 'Cadres Moyens', 'Cadres']);\n",
        "plt.ylim([0, 30])\n",
        "plt.legend()\n",
        "\n",
        "plt.subplot(222)\n",
        "plt.title(label = 'Salaire des hommes en fonction de leur poste')\n",
        "sns.barplot(x= job_H['Poste'], y =job_H ['Salaire'], data=job_H, label = ['Travailleurs', 'Employés', 'Cadres Moyens', 'Cadres']);\n",
        "plt.ylim([0, 30])\n",
        "plt.legend()"
      ],
      "metadata": {
        "id": "hh4VymiFciU4"
      },
      "execution_count": null,
      "outputs": []
    },
    {
      "cell_type": "code",
      "source": [
        "plt.title(label='Différence de Salaire hommes / femmes')\n",
        "sns.barplot(x = new_salaire['Genre'], y = new_salaire['Salaire'], data=new_salaire,label = ['Femmes', 'Hommes']);\n",
        "plt.legend()"
      ],
      "metadata": {
        "id": "tYMgc83xciaE"
      },
      "execution_count": null,
      "outputs": []
    },
    {
      "cell_type": "markdown",
      "source": [
        "CREATION DE LA CARTE DE LA FRANCE CETTE FOIS CI POUR LES SALAIRES :"
      ],
      "metadata": {
        "id": "4XBrzBZYdFtD"
      }
    },
    {
      "cell_type": "code",
      "source": [
        "# On assemble salaire avec geo \n",
        "salaire_location = salaire.merge(geo, how=\"left\", left_on='CODGEO', right_on=\"code_insee\")"
      ],
      "metadata": {
        "id": "6iAItoPocifg"
      },
      "execution_count": null,
      "outputs": []
    },
    {
      "cell_type": "code",
      "source": [
        "# On regroupe la dataframe par departement : \n",
        "salaires_par_dep = salaire_location.groupby(\"numéro_département\").mean()\n",
        "# On regroupe avec de dataset departements :\n",
        "departements_salaire = departements.merge(salaires_par_dep, how=\"left\", left_on=\"code\", right_index=True)\n",
        "# On supprime les valaeurs manquantes :\n",
        "departements_salaire.dropna(subset = [\"longitude\"], inplace=True)"
      ],
      "metadata": {
        "id": "kEM3OCeYcijh"
      },
      "execution_count": null,
      "outputs": []
    },
    {
      "cell_type": "code",
      "source": [
        "fig, ax = plt.subplots(1, figsize=(15,14))\n",
        "ax.set_title('Salaires par départements', size=20, x = 0.25, y=0.90)\n",
        "fig.patch.set_facecolor((202/255, 204/255, 206/255))\n",
        "departements_salaire.plot(ax=ax, column=\"SNHM14_y\", cmap=plt.cm.OrRd, scheme='fisher_jenks', k=15, legend=True)\n",
        "leg = ax.get_legend()\n",
        "ax.set_axis_off()\n",
        "leg.set_bbox_to_anchor((0., 0., 0.2, 0.45))\n",
        "leg.set_title(\"Moyenne net salaires\")"
      ],
      "metadata": {
        "id": "MbOjIRswciny"
      },
      "execution_count": null,
      "outputs": []
    },
    {
      "cell_type": "markdown",
      "source": [
        "Visualisation par rapport à la distance des grandes villes"
      ],
      "metadata": {
        "id": "19eSzewxfwgR"
      }
    },
    {
      "cell_type": "code",
      "source": [
        "plt.figure(figsize=(16,10))\n",
        "sns.set_style(\"whitegrid\")\n",
        "plt.title('Salaire en fonction de la distance avec une grande ville', fontsize=20, fontweight='bold', y=1.05,)\n",
        "plt.xlabel('Distance des grandes villes proche [km]', fontsize=15)\n",
        "plt.ylabel('Salaire moyen [€/heure]', fontsize=15)\n",
        "\n",
        "years = salaire_location[\"MAJOR_CITY_DISTANCE\"].values\n",
        "memory = salaire_location[\"SNHM14\"].values\n",
        "\n",
        "plt.scatter(years, memory, edgecolors='black')\n",
        "plt.show()"
      ],
      "metadata": {
        "id": "ExQ01Vtrciru"
      },
      "execution_count": null,
      "outputs": []
    },
    {
      "cell_type": "markdown",
      "source": [
        "ANALYSES STATISTIQUES "
      ],
      "metadata": {
        "id": "bY7xVZ-jhdkf"
      }
    },
    {
      "cell_type": "markdown",
      "source": [
        "DATASET SALAIRE :"
      ],
      "metadata": {
        "id": "BsyMU_xnhlQW"
      }
    },
    {
      "cell_type": "code",
      "source": [
        "print('INDICATEURS RECAPITULATIF DU DF SALARY :', '\\n')\n",
        "print('SALAIRE NET MOYEN Femme')\n",
        "print(\"la valeur minimale est :\", salaire['SNHMF14'].min())\n",
        "print(\"la valeur maximale est :\", salaire['SNHMF14'].max())\n",
        "print(\"la valeur mediane est :\", salaire['SNHMF14'].median(), '\\n')\n",
        "\n",
        "q1, q2, q3 = salaire['SNHMF14'].quantile(q=[0.25, 0.5, 0.75])\n",
        "\n",
        "print(\"les quartiles sont :\", 'q1 =', q1, ' / q2 = ', q2, ' / q3 = ', q3, '\\n')\n",
        "\n",
        "print('SALAIRE NET MOYEN Femme : CADRES')\n",
        "print(\"la valeur minimale est :\", salaire['SNHMFC14'].min())\n",
        "print(\"la valeur maximale est :\", salaire['SNHMFC14'].max())\n",
        "print(\"la valeur mediane est :\", salaire['SNHMFC14'].median(), '\\n')\n",
        "\n",
        "q1, q2, q3 = salaire['SNHMFC14'].quantile(q=[0.25, 0.5, 0.75])\n",
        "\n",
        "print(\"les quartiles sont :\", 'q1 =', q1, ' / q2 = ', q2, ' / q3 = ', q3, '\\n')\n",
        "\n",
        "print('SALAIRE NET MOYEN Femme : CADRES MOYEN')\n",
        "print(\"la valeur minimale est :\", salaire['SNHMFP14'].min())\n",
        "print(\"la valeur maximale est :\", salaire['SNHMFP14'].max())\n",
        "print(\"la valeur mediane est :\", salaire['SNHMFP14'].median(), '\\n')\n",
        "\n",
        "q1, q2, q3 = salaire['SNHMFP14'].quantile(q=[0.25, 0.5, 0.75])\n",
        "\n",
        "print(\"les quartiles sont :\", 'q1 =', q1, ' / q2 = ', q2, ' / q3 = ', q3, '\\n')\n",
        "\n",
        "print('SALAIRE NET MOYEN Femme: EMPLOYES')\n",
        "print(\"la valeur minimale est :\", salaire['SNHMFE14'].min())\n",
        "print(\"la valeur maximale est :\", salaire['SNHMFE14'].max())\n",
        "print(\"la valeur mediane est :\", salaire['SNHMFE14'].median(), '\\n')\n",
        "\n",
        "q1, q2, q3 =salaire['SNHMFE14'].quantile(q=[0.25, 0.5, 0.75])\n",
        "\n",
        "print(\"les quartiles sont :\", 'q1 =', q1, ' / q2 = ', q2, ' / q3 = ', q3, '\\n')\n",
        "\n",
        "print('SALAIRE NET MOYEN Femme: TRAVAILLEURS')\n",
        "print(\"la valeur minimale est :\", salaire['SNHMFO14'].min())\n",
        "print(\"la valeur maximale est :\", salaire['SNHMFO14'].max())\n",
        "print(\"la valeur mediane est :\", salaire['SNHMFO14'].median(), '\\n')\n",
        "\n",
        "q1, q2, q3 = salaire['SNHMFO14'].quantile(q=[0.25, 0.5, 0.75])\n",
        "\n",
        "print(\"les quartiles sont :\", 'q1 =', q1, ' / q2 = ', q2, ' / q3 = ', q3, '\\n')\n",
        "\n",
        "print('INDICATEURS RECAPITULATIF DU DF SALARY :', '\\n')\n",
        "print('SALAIRE NET MOYEN Homme')\n",
        "print(\"la valeur minimale est :\", salaire['SNHMH14'].min())\n",
        "print(\"la valeur maximale est :\", salaire['SNHMH14'].max())\n",
        "print(\"la valeur mediane est :\", salaire['SNHMH14'].median(), '\\n')\n",
        "\n",
        "q1, q2, q3 = salaire['SNHMH14'].quantile(q=[0.25, 0.5, 0.75])\n",
        "\n",
        "print(\"les quartiles sont :\", 'q1 =', q1, ' / q2 = ', q2, ' / q3 = ', q3, '\\n')\n",
        "\n",
        "print('SALAIRE NET MOYEN Homme: CADRES')\n",
        "print(\"la valeur minimale est :\", salaire['SNHMHC14'].min())\n",
        "print(\"la valeur maximale est :\", salaire['SNHMHC14'].max())\n",
        "print(\"la valeur mediane est :\", salaire['SNHMHC14'].median(), '\\n')\n",
        "\n",
        "q1, q2, q3 = salaire['SNHMHC14'].quantile(q=[0.25, 0.5, 0.75])\n",
        "\n",
        "print(\"les quartiles sont :\", 'q1 =', q1, ' / q2 = ', q2, ' / q3 = ', q3, '\\n')\n",
        "\n",
        "print('SALAIRE NET MOYEN Homme: CADRES MOYEN')\n",
        "print(\"la valeur minimale est :\", salaire['SNHMHP14'].min())\n",
        "print(\"la valeur maximale est :\", salaire['SNHMHP14'].max())\n",
        "print(\"la valeur mediane est :\", salaire['SNHMHP14'].median(), '\\n')\n",
        "\n",
        "q1, q2, q3 = salaire['SNHMHP14'].quantile(q=[0.25, 0.5, 0.75])\n",
        "\n",
        "print('SALAIRE NET MOYEN Homme: EMPLOYE')\n",
        "print(\"la valeur minimale est :\", salaire['SNHMHE14'].min())\n",
        "print(\"la valeur maximale est :\", salaire['SNHMHE14'].max())\n",
        "print(\"la valeur mediane est :\", salaire['SNHMHE14'].median(), '\\n')\n",
        "\n",
        "q1, q2, q3 =salaire['SNHMHE14'].quantile(q=[0.25, 0.5, 0.75])\n",
        "\n",
        "print(\"les quartiles sont :\", 'q1 =', q1, ' / q2 = ', q2, ' / q3 = ', q3, '\\n')\n",
        "\n",
        "print('SALAIRE NET MOYEN Homme : TRAVAILLEUR')\n",
        "print(\"la valeur minimale est :\", salaire['SNHMHO14'].min())\n",
        "print(\"la valeur maximale est :\", salaire['SNHMHO14'].max())\n",
        "print(\"la valeur mediane est :\", salaire['SNHMHO14'].median(), '\\n')\n",
        "\n",
        "q1, q2, q3 = salaire['SNHMHO14'].quantile(q=[0.25, 0.5, 0.75])\n",
        "\n",
        "print(\"les quartiles sont :\", 'q1 =', q1, ' / q2 = ', q2, ' / q3 = ', q3, '\\n')"
      ],
      "metadata": {
        "id": "myAG0tdPcivw"
      },
      "execution_count": null,
      "outputs": []
    },
    {
      "cell_type": "code",
      "source": [
        "salaire.std()"
      ],
      "metadata": {
        "id": "0WqgUvgPciza"
      },
      "execution_count": null,
      "outputs": []
    },
    {
      "cell_type": "code",
      "source": [
        "\n",
        "print('SALAIRE NET MOYEN Femme: 18-25')\n",
        "print(\"la valeur minimale est :\", salaire['SNHMF1814'].min())\n",
        "print(\"la valeur maximale est :\", salaire['SNHMF1814'].max())\n",
        "print(\"la valeur mediane est :\", salaire['SNHMF1814'].median(), '\\n')\n",
        "\n",
        "q1, q2, q3 = salaire['SNHMF1814'].quantile(q=[0.25, 0.5, 0.75])\n",
        "\n",
        "print(\"les quartiles sont :\", 'q1 =', q1, ' / q2 = ', q2, ' / q3 = ', q3, '\\n')\n",
        "\n",
        "print('SALAIRE NET MOYEN Femme: 26-50 ')\n",
        "print(\"la valeur minimale est :\", salaire['SNHMF2614'].min())\n",
        "print(\"la valeur maximale est :\", salaire['SNHMF2614'].max())\n",
        "print(\"la valeur mediane est :\", salaire['SNHMF2614'].median(), '\\n')\n",
        "\n",
        "q1, q2, q3 = salaire['SNHMF2614'].quantile(q=[0.25, 0.5, 0.75])\n",
        "\n",
        "print(\"les quartiles sont :\", 'q1 =', q1, ' / q2 = ', q2, ' / q3 = ', q3, '\\n')\n",
        "\n",
        "print('SALAIRE NET MOYEN Femme: 50 et +')\n",
        "print(\"la valeur minimale est :\", salaire['SNHMF5014'].min())\n",
        "print(\"la valeur maximale est :\", salaire['SNHMF5014'].max())\n",
        "print(\"la valeur mediane est :\", salaire['SNHMF5014'].median(), '\\n')\n",
        "\n",
        "q1, q2, q3 = salaire['SNHMF5014'].quantile(q=[0.25, 0.5, 0.75])\n",
        "\n",
        "print(\"les quartiles sont :\", 'q1 =', q1, ' / q2 = ', q2, ' / q3 = ', q3, '\\n')\n",
        "\n",
        "\n",
        "print('SALAIRE NET MOYEN Homme : 18-25')\n",
        "print(\"la valeur minimale est :\", salaire['SNHMH1814'].min())\n",
        "print(\"la valeur maximale est :\", salaire['SNHMH1814'].max())\n",
        "print(\"la valeur mediane est :\", salaire['SNHMH1814'].median(), '\\n')\n",
        "\n",
        "q1, q2, q3 = salaire['SNHMH1814'].quantile(q=[0.25, 0.5, 0.75])\n",
        "\n",
        "print(\"les quartiles sont :\", 'q1 =', q1, ' / q2 = ', q2, ' / q3 = ', q3, '\\n')\n",
        "\n",
        "print('SALAIRE NET MOYEN Homme : 26-50')\n",
        "print(\"la valeur minimale est :\", salaire['SNHMH2614'].min())\n",
        "print(\"la valeur maximale est :\", salaire['SNHMH2614'].max())\n",
        "print(\"la valeur mediane est :\", salaire['SNHMH2614'].median(), '\\n')\n",
        "\n",
        "q1, q2, q3 = salaire['SNHMH2614'].quantile(q=[0.25, 0.5, 0.75])\n",
        "\n",
        "print(\"les quartiles sont :\", 'q1 =', q1, ' / q2 = ', q2, ' / q3 = ', q3, '\\n')\n",
        "\n",
        "print('SALAIRE NET MOYEN Homme: 50 et +')\n",
        "print(\"la valeur minimale est :\", salaire['SNHMH5014'].min())\n",
        "print(\"la valeur maximale est :\", salaire['SNHMH5014'].max())\n",
        "print(\"la valeur mediane est :\", salaire['SNHMH5014'].median(), '\\n')\n",
        "\n",
        "q1, q2, q3 = salaire['SNHMH5014'].quantile(q=[0.25, 0.5, 0.75])\n",
        "\n",
        "print(\"les quartiles sont :\", 'q1 =', q1, ' / q2 = ', q2, ' / q3 = ', q3, '\\n')"
      ],
      "metadata": {
        "id": "WbDSb2ARieX9"
      },
      "execution_count": null,
      "outputs": []
    },
    {
      "cell_type": "code",
      "source": [
        "print('INDICATEURS RECAPITULATIF DU DF SALARY :', '\\n')\n",
        "print('SALAIRE NET MOYEN')\n",
        "print(\"la valeur minimale est :\", salaire['SNHM14'].min())\n",
        "print(\"la valeur maximale est :\", salaire['SNHM14'].max())\n",
        "print(\"la valeur mediane est :\", salaire['SNHM14'].median(), '\\n')\n",
        "\n",
        "q1, q2, q3 = salaire['SNHM14'].quantile(q=[0.25, 0.5, 0.75])\n",
        "\n",
        "print(\"les quartiles sont :\", 'q1 =', q1, ' / q2 = ', q2, ' / q3 = ', q3, '\\n')\n",
        "\n",
        "print('SALAIRE NET MOYEN : CADRES')\n",
        "print(\"la valeur minimale est :\", salaire['SNHMC14'].min())\n",
        "print(\"la valeur maximale est :\", salaire['SNHMC14'].max())\n",
        "print(\"la valeur mediane est :\", salaire['SNHMC14'].median(), '\\n')\n",
        "\n",
        "q1, q2, q3 = salaire['SNHMC14'].quantile(q=[0.25, 0.5, 0.75])\n",
        "\n",
        "print(\"les quartiles sont :\", 'q1 =', q1, ' / q2 = ', q2, ' / q3 = ', q3, '\\n')\n",
        "\n",
        "print('SALAIRE NET MOYEN : CADRES MOYEN')\n",
        "print(\"la valeur minimale est :\", salaire['SNHMP14'].min())\n",
        "print(\"la valeur maximale est :\", salaire['SNHMP14'].max())\n",
        "print(\"la valeur mediane est :\", salaire['SNHMP14'].median(), '\\n')\n",
        "\n",
        "q1, q2, q3 = salaire['SNHMP14'].quantile(q=[0.25, 0.5, 0.75])\n",
        "\n",
        "print(\"les quartiles sont :\", 'q1 =', q1, ' / q2 = ', q2, ' / q3 = ', q3, '\\n')\n",
        "\n",
        "print('SALAIRE NET MOYEN : EMPLOYES')\n",
        "print(\"la valeur minimale est :\", salaire['SNHME14'].min())\n",
        "print(\"la valeur maximale est :\", salaire['SNHME14'].max())\n",
        "print(\"la valeur mediane est :\", salaire['SNHME14'].median(), '\\n')\n",
        "\n",
        "q1, q2, q3 = salaire['SNHME14'].quantile(q=[0.25, 0.5, 0.75])\n",
        "\n",
        "print(\"les quartiles sont :\", 'q1 =', q1, ' / q2 = ', q2, ' / q3 = ', q3, '\\n')\n",
        "\n",
        "print('SALAIRE NET MOYEN : TRAVAILLEURS')\n",
        "print(\"la valeur minimale est :\", salaire['SNHMO14'].min())\n",
        "print(\"la valeur maximale est :\", salaire['SNHMO14'].max())\n",
        "print(\"la valeur mediane est :\", salaire['SNHMO14'].median(), '\\n')\n",
        "\n",
        "q1, q2, q3 = salaire['SNHMO14'].quantile(q=[0.25, 0.5, 0.75])\n",
        "\n",
        "print(\"les quartiles sont :\", 'q1 =', q1, ' / q2 = ', q2, ' / q3 = ', q3, '\\n')"
      ],
      "metadata": {
        "id": "_IqYJNmTiede"
      },
      "execution_count": null,
      "outputs": []
    },
    {
      "cell_type": "code",
      "source": [
        "moyenne_X2 = salaire[\"SNHMF14\"].mean()\n",
        "print(\"Moyenne calculée avec la commande python: \", moyenne_X2)\n",
        "print(\"\\n\")\n",
        "\n",
        "moyenne_X2 = salaire[\"SNHMH14\"].mean()\n",
        "print(\"Moyenne calculée avec la commande python: \", moyenne_X2)\n",
        "print(\"\\n\")\n",
        "\n",
        "moyenne_X2 = salaire[\"SNHMFC14\"].mean()\n",
        "print(\"Moyenne calculée avec la commande python: \", moyenne_X2)\n",
        "print(\"\\n\")\n",
        "\n",
        "moyenne_X2 = salaire[\"SNHMHC14\"].mean()\n",
        "print(\"Moyenne calculée avec la commande python: \", moyenne_X2)\n",
        "print(\"\\n\")\n",
        "\n",
        "moyenne_X2 = salaire[\"SNHMFP14\"].mean()\n",
        "print(\"Moyenne calculée avec la commande python: \", moyenne_X2)\n",
        "print(\"\\n\")\n",
        "\n",
        "moyenne_X2 = salaire[\"SNHMHP14\"].mean()\n",
        "print(\"Moyenne calculée avec la commande python: \", moyenne_X2)\n",
        "print(\"\\n\")\n",
        "\n",
        "moyenne_X2 = salaire[\"SNHMFE14\"].mean()\n",
        "print(\"Moyenne calculée avec la commande python: \", moyenne_X2)\n",
        "print(\"\\n\")\n",
        "\n",
        "moyenne_X2 = salaire[\"SNHMHE14\"].mean()\n",
        "print(\"Moyenne calculée avec la commande python: \", moyenne_X2)\n",
        "print(\"\\n\")\n",
        "\n",
        "moyenne_X2 = salaire[\"SNHMFO14\"].mean()\n",
        "print(\"Moyenne calculée avec la commande python: \", moyenne_X2)\n",
        "print(\"\\n\")\n",
        "\n",
        "moyenne_X2 = salaire[\"SNHMHO14\"].mean()\n",
        "print(\"Moyenne calculée avec la commande python: \", moyenne_X2)\n",
        "print(\"\\n\")\n",
        "\n",
        "moyenne_X2 = salaire[\"SNHMF1814\"].mean()\n",
        "print(\"Moyenne calculée avec la commande python: \", moyenne_X2)\n",
        "print(\"\\n\")\n",
        "\n",
        "moyenne_X2 = salaire[\"SNHMH1814\"].mean()\n",
        "print(\"Moyenne calculée avec la commande python: \", moyenne_X2)\n",
        "print(\"\\n\")\n",
        "\n",
        "moyenne_X2 = salaire[\"SNHMF2614\"].mean()\n",
        "print(\"Moyenne calculée avec la commande python: \", moyenne_X2)\n",
        "print(\"\\n\")\n",
        "\n",
        "moyenne_X2 = salaire[\"SNHMH2614\"].mean()\n",
        "print(\"Moyenne calculée avec la commande python: \", moyenne_X2)\n",
        "print(\"\\n\")\n",
        "\n",
        "moyenne_X2 =salaire[\"SNHMF5014\"].mean()\n",
        "print(\"Moyenne calculée avec la commande python: \", moyenne_X2)\n",
        "print(\"\\n\")\n",
        "\n",
        "moyenne_X2 = salaire[\"SNHMH5014\"].mean()\n",
        "print(\"Moyenne calculée avec la commande python: \", moyenne_X2)\n",
        "print(\"\\n\")"
      ],
      "metadata": {
        "id": "s5EBl11_ieiW"
      },
      "execution_count": null,
      "outputs": []
    },
    {
      "cell_type": "code",
      "source": [
        "salaire.corr()"
      ],
      "metadata": {
        "id": "97c8gM_nieur"
      },
      "execution_count": null,
      "outputs": []
    },
    {
      "cell_type": "code",
      "source": [
        "cor = salaire.corr()\n",
        "fig, ax = plt.subplots(figsize=(5,5))\n",
        "sns.heatmap(cor, annot=True, ax=ax, cmap='crest');\n",
        "\n",
        "print('''\n",
        "On remarque une correlation forte entre les salaires net moyen par catégorie d'emploi et les \n",
        "salaires nets moyens par catégorie d'âge ''')"
      ],
      "metadata": {
        "id": "n6TxJTnNiexK"
      },
      "execution_count": null,
      "outputs": []
    },
    {
      "cell_type": "markdown",
      "source": [
        "DATSET : ENTREPRISE"
      ],
      "metadata": {
        "id": "W9BGWR1Cjy1x"
      }
    },
    {
      "cell_type": "code",
      "source": [
        "entreprise_stat = entreprise[['LIBGEO','CODGEO','DEP', 'E14TST', 'E14TS1', 'E14TS6', 'E14TS10', 'E14TS20', 'E14TS50', 'E14TS100', 'E14TS200', 'E14TS500' ]]"
      ],
      "metadata": {
        "id": "dZucz6x7iemq"
      },
      "execution_count": null,
      "outputs": []
    },
    {
      "cell_type": "code",
      "source": [
        "entreprise_stat.describe()"
      ],
      "metadata": {
        "id": "utmbtKM2ksi8"
      },
      "execution_count": null,
      "outputs": []
    },
    {
      "cell_type": "code",
      "source": [
        "entreprise.corr()"
      ],
      "metadata": {
        "id": "cdWuusuBieq6"
      },
      "execution_count": null,
      "outputs": []
    },
    {
      "cell_type": "code",
      "source": [
        "colormap = plt.cm.viridis\n",
        "plt.figure(figsize=(15,15))\n",
        "plt.title('Correlation des différentes valeurs', y=1.05, size=15)\n",
        "sns.heatmap(entreprise_corr.astype(float).corr(),linewidths=0.1,vmax=1.0, square=True, cmap=colormap, linecolor='white', annot=True)\n",
        "plt.show()"
      ],
      "metadata": {
        "id": "ZctutFxXk17u"
      },
      "execution_count": null,
      "outputs": []
    },
    {
      "cell_type": "markdown",
      "source": [
        "CREATION D4UN DATAFRAME UNIQUE POUR NOTRE OBJECTIF : PREDIRE LE SALAIRE EN FRANCE"
      ],
      "metadata": {
        "id": "usXWyMtpkDc0"
      }
    },
    {
      "cell_type": "code",
      "source": [
        "french_industry = new_salaire.merge(geo, how = 'left', left_on = 'CODGEO', right_on = 'code_insee')"
      ],
      "metadata": {
        "id": "X6C3tbFokPsS"
      },
      "execution_count": null,
      "outputs": []
    },
    {
      "cell_type": "code",
      "source": [
        "# On renomme une colonne d'entreprise pour fusionner avec french_industry\n",
        "entreprise.rename(columns = {'LIBGEO' : 'nom_commune'}, inplace = True)\n",
        "# On fusionne\n",
        "french_industry = french_industry.merge(right = entreprise, on = 'nom_commune', how = 'outer')"
      ],
      "metadata": {
        "id": "TDTe3mVnkPxE"
      },
      "execution_count": null,
      "outputs": []
    },
    {
      "cell_type": "code",
      "source": [
        "french_industry.head()"
      ],
      "metadata": {
        "id": "4xDxw1W9kP1S"
      },
      "execution_count": null,
      "outputs": []
    },
    {
      "cell_type": "code",
      "source": [
        "french_industry.info()"
      ],
      "metadata": {
        "id": "qsq7UoJFkP5Z"
      },
      "execution_count": null,
      "outputs": []
    },
    {
      "cell_type": "code",
      "source": [
        "# On a remarqué qu'il y avait des valeurs manquantes donc on les enleve :\n",
        "french_industry.dropna(inplace = True)"
      ],
      "metadata": {
        "id": "EoH8nF6kkP9i"
      },
      "execution_count": null,
      "outputs": []
    },
    {
      "cell_type": "code",
      "source": [
        "# On réduit notre dataframe pour n'avoir que les valeurs importante pour nous\n",
        "french_industry = french_industry[[\"Poste\", \"Genre\", \"PARIS_CLOSE\", \"MAJOR_CITY_DISTANCE\", \"Micro\", \"Petite\", \"Medium\", \"Large\", \"Sum\", \"Salaire\"]]"
      ],
      "metadata": {
        "id": "LK4J0wA7kQAw"
      },
      "execution_count": null,
      "outputs": []
    },
    {
      "cell_type": "code",
      "source": [
        "# On verifie la correlation \n",
        "colormap = plt.cm.viridis\n",
        "plt.figure(figsize=(15,15))\n",
        "plt.title('Correlation des différentes valeurs', y=1.05, size=15)\n",
        "sns.heatmap(french_industry.astype(float).corr(),linewidths=0.1,vmax=1.0, square=True, cmap=colormap, linecolor='white', annot=True)\n",
        "plt.show()"
      ],
      "metadata": {
        "id": "cVqCFJ9moEXf"
      },
      "execution_count": null,
      "outputs": []
    },
    {
      "cell_type": "markdown",
      "source": [
        "ON PASSE A NOTRE MACHINE LEARNING"
      ],
      "metadata": {
        "id": "D9wTmaK1oawQ"
      }
    },
    {
      "cell_type": "code",
      "source": [
        "from sklearn.model_selection import train_test_split\n",
        "from sklearn.preprocessing import StandardScaler\n",
        "from sklearn.preprocessing import LabelEncoder\n",
        "from sklearn.metrics import f1_score\n",
        "from sklearn.compose import ColumnTransformer\n",
        "from sklearn.pipeline import Pipeline"
      ],
      "metadata": {
        "id": "RJjhfQBWoEdC"
      },
      "execution_count": null,
      "outputs": []
    },
    {
      "cell_type": "code",
      "source": [
        "# Separation des données du dataframe feats variable explicatives et target variable cible\n",
        "feats = french_industry.drop('Salaire', axis = 1)\n",
        "target = french_industry['Salaire']"
      ],
      "metadata": {
        "id": "7hbW5YKhoEiV"
      },
      "execution_count": null,
      "outputs": []
    },
    {
      "cell_type": "code",
      "source": [
        "# Création d'un ensemble d'entrainement et un ensemble test\n",
        "X_train, X_test, y_train, y_test = train_test_split(feats, target, test_size = 0.25, random_state = 42)"
      ],
      "metadata": {
        "id": "t-r9MAHrogvg"
      },
      "execution_count": null,
      "outputs": []
    },
    {
      "cell_type": "code",
      "source": [
        "print(\"Train Set:\", X_train.shape)\n",
        "print(\"Test Set:\", X_test.shape)"
      ],
      "metadata": {
        "id": "Xk2iajojog0S"
      },
      "execution_count": null,
      "outputs": []
    },
    {
      "cell_type": "code",
      "source": [
        "# Standardisation \n",
        "from sklearn.preprocessing import StandardScaler\n",
        "\n",
        "scaler = StandardScaler()\n",
        "\n",
        "scaler.fit(X_train)\n",
        "X_train_scaled = scaler.transform(X_train)\n",
        "X_test_scaled = scaler.transform(X_test)\n",
        "\n",
        "X_train.head()"
      ],
      "metadata": {
        "id": "-FyuibcTog5Z"
      },
      "execution_count": null,
      "outputs": []
    },
    {
      "cell_type": "markdown",
      "source": [
        "LINEARREGRESSION"
      ],
      "metadata": {
        "id": "CbFnOzdEpBzt"
      }
    },
    {
      "cell_type": "code",
      "source": [
        "from sklearn.linear_model import LinearRegression\n",
        "\n",
        "regressor_lr = LinearRegression()\n",
        "regressor_lr.fit(X_train, y_train)\n",
        "\n",
        "# Prediction du resultat sur test\n",
        "y_pred_lr = regressor_lr.predict(X_test)"
      ],
      "metadata": {
        "id": "TEU0N8sxoEnV"
      },
      "execution_count": null,
      "outputs": []
    },
    {
      "cell_type": "markdown",
      "source": [
        "DECISIONTREEREGRESSOR"
      ],
      "metadata": {
        "id": "E1HqRAtFpFeg"
      }
    },
    {
      "cell_type": "code",
      "source": [
        "from sklearn.tree import DecisionTreeRegressor\n",
        "\n",
        "regressor_dtr = DecisionTreeRegressor(random_state = 42)\n",
        "regressor_dtr.fit(X_train, y_train)\n",
        "\n",
        "# Prediction du resultat sur test\n",
        "y_pred_dtr = regressor_dtr.predict(X_test)"
      ],
      "metadata": {
        "id": "Z-UG2UtuoEsN"
      },
      "execution_count": null,
      "outputs": []
    },
    {
      "cell_type": "markdown",
      "source": [
        "RANDOMFORESTREGRESSOR"
      ],
      "metadata": {
        "id": "hI0NuMUbpHpS"
      }
    },
    {
      "cell_type": "code",
      "source": [
        "from sklearn.ensemble import RandomForestRegressor\n",
        "\n",
        "regressor_rfr = RandomForestRegressor(n_estimators = 10, random_state = 42)\n",
        "regressor_rfr.fit(X_train, y_train)\n",
        "\n",
        "# Prediction du resultat sur test\n",
        "y_pred_rfr = regressor_rfr.predict(X_test)"
      ],
      "metadata": {
        "id": "2J1eGPOkoExj"
      },
      "execution_count": null,
      "outputs": []
    },
    {
      "cell_type": "markdown",
      "source": [
        "RECHERCHE DE L'ACCURACY"
      ],
      "metadata": {
        "id": "31fg2DY0pTJd"
      }
    },
    {
      "cell_type": "code",
      "source": [
        "from sklearn.linear_model import LinearRegression\n",
        "cl1 = LinearRegression()\n",
        "cl1.fit(X_train_scaled, y_train)\n",
        "print(\"Accuracy score de la Régression Linéaire : \",\n",
        "      cl1.score(X_test_scaled, y_test))\n",
        "\n",
        "from sklearn.tree import DecisionTreeRegressor\n",
        "cl2 = DecisionTreeRegressor()\n",
        "cl2.fit(X_train_scaled, y_train)\n",
        "print(\"Accuracy score de l'Arbre de Décision de regression : \",\n",
        "      cl2.score(X_test_scaled, y_test))\n",
        "\n",
        "from sklearn.ensemble import RandomForestRegressor\n",
        "cl3 = RandomForestRegressor()\n",
        "cl3.fit(X_train_scaled, y_train)\n",
        "print(\"Accuracy score du Random Forest : \",\n",
        "      cl3.score(X_test_scaled, y_test))"
      ],
      "metadata": {
        "id": "eaJFrb9fouW3"
      },
      "execution_count": null,
      "outputs": []
    },
    {
      "cell_type": "markdown",
      "source": [
        "RECHERCHE DE LA R2"
      ],
      "metadata": {
        "id": "pB0RL3KtpX2y"
      }
    },
    {
      "cell_type": "code",
      "source": [
        "def standard_error(y_pred, y_test):\n",
        "    sum_value = 0\n",
        "    for p, t in zip(y_pred, y_test):\n",
        "        sum_value += (p - t)**2\n",
        "    \n",
        "    return((sum_value/len(y_test))**(1/2))"
      ],
      "metadata": {
        "id": "fBg2G34vouct"
      },
      "execution_count": null,
      "outputs": []
    },
    {
      "cell_type": "code",
      "source": [
        "from sklearn.metrics import r2_score\n",
        "\n",
        "score_lr = r2_score(y_pred_lr, y_test)\n",
        "print(\"r2 pour la regression linéaire est égale à : \" + str(round(score_lr, 3)))\n",
        "score_dtr = r2_score(y_pred_dtr, y_test)\n",
        "print(\"r2 pour l'arbre de decision regression est égal à : \" + str(round(score_dtr, 3)))\n",
        "score_rfr = r2_score(y_pred_rfr, y_test)\n",
        "print(\"r2 pour la random forest regression est égal à : \" + str(round(score_rfr, 3)))"
      ],
      "metadata": {
        "id": "S7dwLKX4ouig"
      },
      "execution_count": null,
      "outputs": []
    },
    {
      "cell_type": "code",
      "source": [
        "error_lr = standard_error(y_pred_lr.tolist(), y_test.tolist())\n",
        "print(\"standard error pour la regression linéaire est égale à :\" + str(round(error_lr, 3)))\n",
        "error_dtr = standard_error(y_pred_dtr.tolist(), y_test.tolist())\n",
        "print(\"standard error pour l'arbre de decision regression est égal à : \" + str(round(error_dtr, 3)))\n",
        "error_rfr = standard_error(y_pred_rfr.tolist(), y_test.tolist())\n",
        "print(\"standard error pour la random forest regression est égal à : \" + str(round(error_rfr, 3)))"
      ],
      "metadata": {
        "id": "A6XII7g2ouvC"
      },
      "execution_count": null,
      "outputs": []
    },
    {
      "cell_type": "markdown",
      "source": [
        "VISUALISATION DES VALEURS QUI IMPACTENT LES RESULTATS"
      ],
      "metadata": {
        "id": "35XRRIe-pbFY"
      }
    },
    {
      "cell_type": "code",
      "source": [
        "import matplotlib.pyplot as plt \n",
        "%matplotlib inline\n",
        "feat_importances = pd.DataFrame(cl3.feature_importances_, index = feats.columns, columns = ['Importance'])\n",
        "feat_importances.sort_values(by= 'Importance', ascending = False, inplace = True )\n",
        "feat_importances.plot(kind ='bar', figsize = (8,6))"
      ],
      "metadata": {
        "id": "RBKMTjWZou1K"
      },
      "execution_count": null,
      "outputs": []
    }
  ]
}