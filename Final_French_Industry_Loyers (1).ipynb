{
  "nbformat": 4,
  "nbformat_minor": 0,
  "metadata": {
    "colab": {
      "provenance": []
    },
    "kernelspec": {
      "name": "python3",
      "display_name": "Python 3"
    },
    "language_info": {
      "name": "python"
    }
  },
  "cells": [
    {
      "cell_type": "markdown",
      "source": [
        "AJOUT D'UN NOUVEAU DATASET A NOTRE ANALYSE : LOYERS\n",
        "NOUS ALLONS PROCEDER DE LA MEME MANIERE QU'AVEC NOS AUTRES DATASETS :"
      ],
      "metadata": {
        "id": "2zX_KJeItOgj"
      }
    },
    {
      "cell_type": "code",
      "execution_count": null,
      "metadata": {
        "colab": {
          "base_uri": "https://localhost:8080/"
        },
        "id": "qG7X-lgGxr9E",
        "outputId": "df214b17-dec6-46fd-dff7-1beda3f16cf6"
      },
      "outputs": [
        {
          "output_type": "stream",
          "name": "stdout",
          "text": [
            "Mounted at /content/drive\n"
          ]
        }
      ],
      "source": [
        "from google.colab import drive\n",
        "drive.mount('/content/drive')"
      ]
    },
    {
      "cell_type": "code",
      "source": [
        "import numpy as np\n",
        "import pandas as pd\n",
        "!pip install geopandas\n",
        "import geopandas as gpd\n",
        "from scipy.optimize import curve_fit\n",
        "import seaborn as sns\n",
        "\n",
        "from math import radians, cos, sin, asin, sqrt\n",
        "\n",
        "!pip install basemap\n",
        "from mpl_toolkits.basemap import Basemap\n",
        "import matplotlib.pyplot as plt\n",
        "import matplotlib.colors as colors\n",
        "%matplotlib inline\n",
        "\n",
        "import plotly.offline as py\n",
        "py.init_notebook_mode(connected=True)\n",
        "import plotly.graph_objs as go\n",
        "import plotly.tools as tls\n",
        "\n",
        "!pip install mapclassify"
      ],
      "metadata": {
        "colab": {
          "base_uri": "https://localhost:8080/",
          "height": 1000
        },
        "id": "A9fkohEgx-i3",
        "outputId": "84d58ab7-c2ee-4b66-aa2e-0c668dc17431"
      },
      "execution_count": null,
      "outputs": [
        {
          "output_type": "stream",
          "name": "stdout",
          "text": [
            "Looking in indexes: https://pypi.org/simple, https://us-python.pkg.dev/colab-wheels/public/simple/\n",
            "Collecting geopandas\n",
            "  Downloading geopandas-0.13.0-py3-none-any.whl (1.1 MB)\n",
            "\u001b[2K     \u001b[90m━━━━━━━━━━━━━━━━━━━━━━━━━━━━━━━━━━━━━━━━\u001b[0m \u001b[32m1.1/1.1 MB\u001b[0m \u001b[31m15.1 MB/s\u001b[0m eta \u001b[36m0:00:00\u001b[0m\n",
            "\u001b[?25hCollecting fiona>=1.8.19 (from geopandas)\n",
            "  Downloading Fiona-1.9.4.post1-cp310-cp310-manylinux_2_17_x86_64.manylinux2014_x86_64.whl (16.4 MB)\n",
            "\u001b[2K     \u001b[90m━━━━━━━━━━━━━━━━━━━━━━━━━━━━━━━━━━━━━━━━\u001b[0m \u001b[32m16.4/16.4 MB\u001b[0m \u001b[31m78.6 MB/s\u001b[0m eta \u001b[36m0:00:00\u001b[0m\n",
            "\u001b[?25hRequirement already satisfied: packaging in /usr/local/lib/python3.10/dist-packages (from geopandas) (23.1)\n",
            "Requirement already satisfied: pandas>=1.1.0 in /usr/local/lib/python3.10/dist-packages (from geopandas) (1.5.3)\n",
            "Collecting pyproj>=3.0.1 (from geopandas)\n",
            "  Downloading pyproj-3.5.0-cp310-cp310-manylinux_2_17_x86_64.manylinux2014_x86_64.whl (7.7 MB)\n",
            "\u001b[2K     \u001b[90m━━━━━━━━━━━━━━━━━━━━━━━━━━━━━━━━━━━━━━━━\u001b[0m \u001b[32m7.7/7.7 MB\u001b[0m \u001b[31m100.4 MB/s\u001b[0m eta \u001b[36m0:00:00\u001b[0m\n",
            "\u001b[?25hRequirement already satisfied: shapely>=1.7.1 in /usr/local/lib/python3.10/dist-packages (from geopandas) (2.0.1)\n",
            "Requirement already satisfied: attrs>=19.2.0 in /usr/local/lib/python3.10/dist-packages (from fiona>=1.8.19->geopandas) (23.1.0)\n",
            "Requirement already satisfied: certifi in /usr/local/lib/python3.10/dist-packages (from fiona>=1.8.19->geopandas) (2022.12.7)\n",
            "Requirement already satisfied: click~=8.0 in /usr/local/lib/python3.10/dist-packages (from fiona>=1.8.19->geopandas) (8.1.3)\n",
            "Collecting click-plugins>=1.0 (from fiona>=1.8.19->geopandas)\n",
            "  Downloading click_plugins-1.1.1-py2.py3-none-any.whl (7.5 kB)\n",
            "Collecting cligj>=0.5 (from fiona>=1.8.19->geopandas)\n",
            "  Downloading cligj-0.7.2-py3-none-any.whl (7.1 kB)\n",
            "Requirement already satisfied: six in /usr/local/lib/python3.10/dist-packages (from fiona>=1.8.19->geopandas) (1.16.0)\n",
            "Requirement already satisfied: python-dateutil>=2.8.1 in /usr/local/lib/python3.10/dist-packages (from pandas>=1.1.0->geopandas) (2.8.2)\n",
            "Requirement already satisfied: pytz>=2020.1 in /usr/local/lib/python3.10/dist-packages (from pandas>=1.1.0->geopandas) (2022.7.1)\n",
            "Requirement already satisfied: numpy>=1.21.0 in /usr/local/lib/python3.10/dist-packages (from pandas>=1.1.0->geopandas) (1.22.4)\n",
            "Installing collected packages: pyproj, cligj, click-plugins, fiona, geopandas\n",
            "Successfully installed click-plugins-1.1.1 cligj-0.7.2 fiona-1.9.4.post1 geopandas-0.13.0 pyproj-3.5.0\n",
            "Looking in indexes: https://pypi.org/simple, https://us-python.pkg.dev/colab-wheels/public/simple/\n",
            "Collecting basemap\n",
            "  Downloading basemap-1.3.7-cp310-cp310-manylinux1_x86_64.whl (860 kB)\n",
            "\u001b[2K     \u001b[90m━━━━━━━━━━━━━━━━━━━━━━━━━━━━━━━━━━━━━━━\u001b[0m \u001b[32m860.6/860.6 kB\u001b[0m \u001b[31m2.9 MB/s\u001b[0m eta \u001b[36m0:00:00\u001b[0m\n",
            "\u001b[?25hCollecting basemap-data<1.4,>=1.3.2 (from basemap)\n",
            "  Downloading basemap_data-1.3.2-py2.py3-none-any.whl (30.5 MB)\n",
            "\u001b[2K     \u001b[90m━━━━━━━━━━━━━━━━━━━━━━━━━━━━━━━━━━━━━━━━\u001b[0m \u001b[32m30.5/30.5 MB\u001b[0m \u001b[31m34.2 MB/s\u001b[0m eta \u001b[36m0:00:00\u001b[0m\n",
            "\u001b[?25hCollecting pyshp<2.4,>=1.2 (from basemap)\n",
            "  Downloading pyshp-2.3.1-py2.py3-none-any.whl (46 kB)\n",
            "\u001b[2K     \u001b[90m━━━━━━━━━━━━━━━━━━━━━━━━━━━━━━━━━━━━━━━━\u001b[0m \u001b[32m46.5/46.5 kB\u001b[0m \u001b[31m4.0 MB/s\u001b[0m eta \u001b[36m0:00:00\u001b[0m\n",
            "\u001b[?25hRequirement already satisfied: matplotlib<3.8,>=1.5 in /usr/local/lib/python3.10/dist-packages (from basemap) (3.7.1)\n",
            "Requirement already satisfied: pyproj<3.6.0,>=1.9.3 in /usr/local/lib/python3.10/dist-packages (from basemap) (3.5.0)\n",
            "Requirement already satisfied: numpy<1.25,>=1.22 in /usr/local/lib/python3.10/dist-packages (from basemap) (1.22.4)\n",
            "Requirement already satisfied: contourpy>=1.0.1 in /usr/local/lib/python3.10/dist-packages (from matplotlib<3.8,>=1.5->basemap) (1.0.7)\n",
            "Requirement already satisfied: cycler>=0.10 in /usr/local/lib/python3.10/dist-packages (from matplotlib<3.8,>=1.5->basemap) (0.11.0)\n",
            "Requirement already satisfied: fonttools>=4.22.0 in /usr/local/lib/python3.10/dist-packages (from matplotlib<3.8,>=1.5->basemap) (4.39.3)\n",
            "Requirement already satisfied: kiwisolver>=1.0.1 in /usr/local/lib/python3.10/dist-packages (from matplotlib<3.8,>=1.5->basemap) (1.4.4)\n",
            "Requirement already satisfied: packaging>=20.0 in /usr/local/lib/python3.10/dist-packages (from matplotlib<3.8,>=1.5->basemap) (23.1)\n",
            "Requirement already satisfied: pillow>=6.2.0 in /usr/local/lib/python3.10/dist-packages (from matplotlib<3.8,>=1.5->basemap) (8.4.0)\n",
            "Requirement already satisfied: pyparsing>=2.3.1 in /usr/local/lib/python3.10/dist-packages (from matplotlib<3.8,>=1.5->basemap) (3.0.9)\n",
            "Requirement already satisfied: python-dateutil>=2.7 in /usr/local/lib/python3.10/dist-packages (from matplotlib<3.8,>=1.5->basemap) (2.8.2)\n",
            "Requirement already satisfied: certifi in /usr/local/lib/python3.10/dist-packages (from pyproj<3.6.0,>=1.9.3->basemap) (2022.12.7)\n",
            "Requirement already satisfied: six>=1.5 in /usr/local/lib/python3.10/dist-packages (from python-dateutil>=2.7->matplotlib<3.8,>=1.5->basemap) (1.16.0)\n",
            "Installing collected packages: pyshp, basemap-data, basemap\n",
            "Successfully installed basemap-1.3.7 basemap-data-1.3.2 pyshp-2.3.1\n"
          ]
        },
        {
          "output_type": "display_data",
          "data": {
            "application/vnd.colab-display-data+json": {
              "pip_warning": {
                "packages": [
                  "mpl_toolkits"
                ]
              }
            }
          },
          "metadata": {}
        },
        {
          "output_type": "display_data",
          "data": {
            "text/html": [
              "        <script type=\"text/javascript\">\n",
              "        window.PlotlyConfig = {MathJaxConfig: 'local'};\n",
              "        if (window.MathJax && window.MathJax.Hub && window.MathJax.Hub.Config) {window.MathJax.Hub.Config({SVG: {font: \"STIX-Web\"}});}\n",
              "        if (typeof require !== 'undefined') {\n",
              "        require.undef(\"plotly\");\n",
              "        requirejs.config({\n",
              "            paths: {\n",
              "                'plotly': ['https://cdn.plot.ly/plotly-2.18.2.min']\n",
              "            }\n",
              "        });\n",
              "        require(['plotly'], function(Plotly) {\n",
              "            window._Plotly = Plotly;\n",
              "        });\n",
              "        }\n",
              "        </script>\n",
              "        "
            ]
          },
          "metadata": {}
        },
        {
          "output_type": "stream",
          "name": "stdout",
          "text": [
            "Looking in indexes: https://pypi.org/simple, https://us-python.pkg.dev/colab-wheels/public/simple/\n",
            "Collecting mapclassify\n",
            "  Downloading mapclassify-2.5.0-py3-none-any.whl (39 kB)\n",
            "Requirement already satisfied: scipy>=1.0 in /usr/local/lib/python3.10/dist-packages (from mapclassify) (1.10.1)\n",
            "Requirement already satisfied: numpy>=1.3 in /usr/local/lib/python3.10/dist-packages (from mapclassify) (1.22.4)\n",
            "Requirement already satisfied: scikit-learn in /usr/local/lib/python3.10/dist-packages (from mapclassify) (1.2.2)\n",
            "Requirement already satisfied: pandas>=1.0 in /usr/local/lib/python3.10/dist-packages (from mapclassify) (1.5.3)\n",
            "Requirement already satisfied: networkx in /usr/local/lib/python3.10/dist-packages (from mapclassify) (3.1)\n",
            "Requirement already satisfied: python-dateutil>=2.8.1 in /usr/local/lib/python3.10/dist-packages (from pandas>=1.0->mapclassify) (2.8.2)\n",
            "Requirement already satisfied: pytz>=2020.1 in /usr/local/lib/python3.10/dist-packages (from pandas>=1.0->mapclassify) (2022.7.1)\n",
            "Requirement already satisfied: joblib>=1.1.1 in /usr/local/lib/python3.10/dist-packages (from scikit-learn->mapclassify) (1.2.0)\n",
            "Requirement already satisfied: threadpoolctl>=2.0.0 in /usr/local/lib/python3.10/dist-packages (from scikit-learn->mapclassify) (3.1.0)\n",
            "Requirement already satisfied: six>=1.5 in /usr/local/lib/python3.10/dist-packages (from python-dateutil>=2.8.1->pandas>=1.0->mapclassify) (1.16.0)\n",
            "Installing collected packages: mapclassify\n",
            "Successfully installed mapclassify-2.5.0\n"
          ]
        }
      ]
    },
    {
      "cell_type": "code",
      "source": [
        "departements = gpd.read_file('/content/drive/MyDrive/French Industry/departements.geojson')\n",
        "loyers = pd.read_csv('/content/drive/MyDrive/French Industry/loyers.csv', sep = ',')\n",
        "entreprise = pd.read_csv('/content/drive/MyDrive/French Industry/base_etablissement_par_tranche_effectif.csv', sep = ',')\n",
        "geo= pd.read_csv('/content/drive/MyDrive/French Industry/name_geographic_information.csv', sep = ',')"
      ],
      "metadata": {
        "id": "C523BBFPx-oh"
      },
      "execution_count": null,
      "outputs": []
    },
    {
      "cell_type": "code",
      "source": [
        "loyers.head()"
      ],
      "metadata": {
        "colab": {
          "base_uri": "https://localhost:8080/",
          "height": 206
        },
        "id": "OaxOMOEqytBI",
        "outputId": "f9110eec-1836-4c5c-a3c8-7b1bc2d1fea2"
      },
      "execution_count": null,
      "outputs": [
        {
          "output_type": "execute_result",
          "data": {
            "text/plain": [
              "  departement  id_ville                    ville  date  loyer_m2_appartement  \\\n",
              "0           1         1  L'Abergement-Clémenciat  2018              9.372335   \n",
              "1           1         2    L'Abergement-de-Varey  2018              8.635552   \n",
              "2           1         4        Ambérieu-en-Bugey  2018             10.074507   \n",
              "3           1         5      Ambérieux-en-Dombes  2018              9.372335   \n",
              "4           1         6                  Ambléon  2018              8.966955   \n",
              "\n",
              "   loyer_m2_maison  \n",
              "0         8.191701  \n",
              "1         7.441199  \n",
              "2         8.411184  \n",
              "3         9.039551  \n",
              "4         8.058265  "
            ],
            "text/html": [
              "\n",
              "  <div id=\"df-704acc8f-6fd5-4825-bd79-f447189328a1\">\n",
              "    <div class=\"colab-df-container\">\n",
              "      <div>\n",
              "<style scoped>\n",
              "    .dataframe tbody tr th:only-of-type {\n",
              "        vertical-align: middle;\n",
              "    }\n",
              "\n",
              "    .dataframe tbody tr th {\n",
              "        vertical-align: top;\n",
              "    }\n",
              "\n",
              "    .dataframe thead th {\n",
              "        text-align: right;\n",
              "    }\n",
              "</style>\n",
              "<table border=\"1\" class=\"dataframe\">\n",
              "  <thead>\n",
              "    <tr style=\"text-align: right;\">\n",
              "      <th></th>\n",
              "      <th>departement</th>\n",
              "      <th>id_ville</th>\n",
              "      <th>ville</th>\n",
              "      <th>date</th>\n",
              "      <th>loyer_m2_appartement</th>\n",
              "      <th>loyer_m2_maison</th>\n",
              "    </tr>\n",
              "  </thead>\n",
              "  <tbody>\n",
              "    <tr>\n",
              "      <th>0</th>\n",
              "      <td>1</td>\n",
              "      <td>1</td>\n",
              "      <td>L'Abergement-Clémenciat</td>\n",
              "      <td>2018</td>\n",
              "      <td>9.372335</td>\n",
              "      <td>8.191701</td>\n",
              "    </tr>\n",
              "    <tr>\n",
              "      <th>1</th>\n",
              "      <td>1</td>\n",
              "      <td>2</td>\n",
              "      <td>L'Abergement-de-Varey</td>\n",
              "      <td>2018</td>\n",
              "      <td>8.635552</td>\n",
              "      <td>7.441199</td>\n",
              "    </tr>\n",
              "    <tr>\n",
              "      <th>2</th>\n",
              "      <td>1</td>\n",
              "      <td>4</td>\n",
              "      <td>Ambérieu-en-Bugey</td>\n",
              "      <td>2018</td>\n",
              "      <td>10.074507</td>\n",
              "      <td>8.411184</td>\n",
              "    </tr>\n",
              "    <tr>\n",
              "      <th>3</th>\n",
              "      <td>1</td>\n",
              "      <td>5</td>\n",
              "      <td>Ambérieux-en-Dombes</td>\n",
              "      <td>2018</td>\n",
              "      <td>9.372335</td>\n",
              "      <td>9.039551</td>\n",
              "    </tr>\n",
              "    <tr>\n",
              "      <th>4</th>\n",
              "      <td>1</td>\n",
              "      <td>6</td>\n",
              "      <td>Ambléon</td>\n",
              "      <td>2018</td>\n",
              "      <td>8.966955</td>\n",
              "      <td>8.058265</td>\n",
              "    </tr>\n",
              "  </tbody>\n",
              "</table>\n",
              "</div>\n",
              "      <button class=\"colab-df-convert\" onclick=\"convertToInteractive('df-704acc8f-6fd5-4825-bd79-f447189328a1')\"\n",
              "              title=\"Convert this dataframe to an interactive table.\"\n",
              "              style=\"display:none;\">\n",
              "        \n",
              "  <svg xmlns=\"http://www.w3.org/2000/svg\" height=\"24px\"viewBox=\"0 0 24 24\"\n",
              "       width=\"24px\">\n",
              "    <path d=\"M0 0h24v24H0V0z\" fill=\"none\"/>\n",
              "    <path d=\"M18.56 5.44l.94 2.06.94-2.06 2.06-.94-2.06-.94-.94-2.06-.94 2.06-2.06.94zm-11 1L8.5 8.5l.94-2.06 2.06-.94-2.06-.94L8.5 2.5l-.94 2.06-2.06.94zm10 10l.94 2.06.94-2.06 2.06-.94-2.06-.94-.94-2.06-.94 2.06-2.06.94z\"/><path d=\"M17.41 7.96l-1.37-1.37c-.4-.4-.92-.59-1.43-.59-.52 0-1.04.2-1.43.59L10.3 9.45l-7.72 7.72c-.78.78-.78 2.05 0 2.83L4 21.41c.39.39.9.59 1.41.59.51 0 1.02-.2 1.41-.59l7.78-7.78 2.81-2.81c.8-.78.8-2.07 0-2.86zM5.41 20L4 18.59l7.72-7.72 1.47 1.35L5.41 20z\"/>\n",
              "  </svg>\n",
              "      </button>\n",
              "      \n",
              "  <style>\n",
              "    .colab-df-container {\n",
              "      display:flex;\n",
              "      flex-wrap:wrap;\n",
              "      gap: 12px;\n",
              "    }\n",
              "\n",
              "    .colab-df-convert {\n",
              "      background-color: #E8F0FE;\n",
              "      border: none;\n",
              "      border-radius: 50%;\n",
              "      cursor: pointer;\n",
              "      display: none;\n",
              "      fill: #1967D2;\n",
              "      height: 32px;\n",
              "      padding: 0 0 0 0;\n",
              "      width: 32px;\n",
              "    }\n",
              "\n",
              "    .colab-df-convert:hover {\n",
              "      background-color: #E2EBFA;\n",
              "      box-shadow: 0px 1px 2px rgba(60, 64, 67, 0.3), 0px 1px 3px 1px rgba(60, 64, 67, 0.15);\n",
              "      fill: #174EA6;\n",
              "    }\n",
              "\n",
              "    [theme=dark] .colab-df-convert {\n",
              "      background-color: #3B4455;\n",
              "      fill: #D2E3FC;\n",
              "    }\n",
              "\n",
              "    [theme=dark] .colab-df-convert:hover {\n",
              "      background-color: #434B5C;\n",
              "      box-shadow: 0px 1px 3px 1px rgba(0, 0, 0, 0.15);\n",
              "      filter: drop-shadow(0px 1px 2px rgba(0, 0, 0, 0.3));\n",
              "      fill: #FFFFFF;\n",
              "    }\n",
              "  </style>\n",
              "\n",
              "      <script>\n",
              "        const buttonEl =\n",
              "          document.querySelector('#df-704acc8f-6fd5-4825-bd79-f447189328a1 button.colab-df-convert');\n",
              "        buttonEl.style.display =\n",
              "          google.colab.kernel.accessAllowed ? 'block' : 'none';\n",
              "\n",
              "        async function convertToInteractive(key) {\n",
              "          const element = document.querySelector('#df-704acc8f-6fd5-4825-bd79-f447189328a1');\n",
              "          const dataTable =\n",
              "            await google.colab.kernel.invokeFunction('convertToInteractive',\n",
              "                                                     [key], {});\n",
              "          if (!dataTable) return;\n",
              "\n",
              "          const docLinkHtml = 'Like what you see? Visit the ' +\n",
              "            '<a target=\"_blank\" href=https://colab.research.google.com/notebooks/data_table.ipynb>data table notebook</a>'\n",
              "            + ' to learn more about interactive tables.';\n",
              "          element.innerHTML = '';\n",
              "          dataTable['output_type'] = 'display_data';\n",
              "          await google.colab.output.renderOutput(dataTable, element);\n",
              "          const docLink = document.createElement('div');\n",
              "          docLink.innerHTML = docLinkHtml;\n",
              "          element.appendChild(docLink);\n",
              "        }\n",
              "      </script>\n",
              "    </div>\n",
              "  </div>\n",
              "  "
            ]
          },
          "metadata": {},
          "execution_count": 4
        }
      ]
    },
    {
      "cell_type": "code",
      "source": [
        "print(loyers.shape)"
      ],
      "metadata": {
        "colab": {
          "base_uri": "https://localhost:8080/"
        },
        "id": "R790B53czXB0",
        "outputId": "590d8215-4f56-4264-8590-83573c19cf91"
      },
      "execution_count": null,
      "outputs": [
        {
          "output_type": "stream",
          "name": "stdout",
          "text": [
            "(70421, 6)\n"
          ]
        }
      ]
    },
    {
      "cell_type": "code",
      "source": [
        "loyers['date'].value_counts()"
      ],
      "metadata": {
        "colab": {
          "base_uri": "https://localhost:8080/"
        },
        "id": "t7qAg6ZgF909",
        "outputId": "c662619c-b4e2-47c0-d930-28187d619dc4"
      },
      "execution_count": null,
      "outputs": [
        {
          "output_type": "execute_result",
          "data": {
            "text/plain": [
              "2018    35441\n",
              "2022    34980\n",
              "Name: date, dtype: int64"
            ]
          },
          "metadata": {},
          "execution_count": 6
        }
      ]
    },
    {
      "cell_type": "code",
      "source": [
        "loyers_appartement = loyers [['departement', 'id_ville', 'ville', 'date', 'loyer_m2_appartement']]"
      ],
      "metadata": {
        "id": "YaSLFgdgHG7b"
      },
      "execution_count": null,
      "outputs": []
    },
    {
      "cell_type": "code",
      "source": [
        "loyers_appartement = loyers_appartement.loc[(loyers_appartement['date'] == 2018)]"
      ],
      "metadata": {
        "id": "CcUFNTtCHc9n"
      },
      "execution_count": null,
      "outputs": []
    },
    {
      "cell_type": "code",
      "source": [
        "loyers_appartement.head()"
      ],
      "metadata": {
        "colab": {
          "base_uri": "https://localhost:8080/",
          "height": 206
        },
        "id": "lPlpXqOoH_tr",
        "outputId": "a887582e-f398-4fd9-f8fb-2bef83e27e3a"
      },
      "execution_count": null,
      "outputs": [
        {
          "output_type": "execute_result",
          "data": {
            "text/plain": [
              "  departement  id_ville                    ville  date  loyer_m2_appartement\n",
              "0           1         1  L'Abergement-Clémenciat  2018              9.372335\n",
              "1           1         2    L'Abergement-de-Varey  2018              8.635552\n",
              "2           1         4        Ambérieu-en-Bugey  2018             10.074507\n",
              "3           1         5      Ambérieux-en-Dombes  2018              9.372335\n",
              "4           1         6                  Ambléon  2018              8.966955"
            ],
            "text/html": [
              "\n",
              "  <div id=\"df-e2a7356b-12ca-4535-bd07-32c0705b0687\">\n",
              "    <div class=\"colab-df-container\">\n",
              "      <div>\n",
              "<style scoped>\n",
              "    .dataframe tbody tr th:only-of-type {\n",
              "        vertical-align: middle;\n",
              "    }\n",
              "\n",
              "    .dataframe tbody tr th {\n",
              "        vertical-align: top;\n",
              "    }\n",
              "\n",
              "    .dataframe thead th {\n",
              "        text-align: right;\n",
              "    }\n",
              "</style>\n",
              "<table border=\"1\" class=\"dataframe\">\n",
              "  <thead>\n",
              "    <tr style=\"text-align: right;\">\n",
              "      <th></th>\n",
              "      <th>departement</th>\n",
              "      <th>id_ville</th>\n",
              "      <th>ville</th>\n",
              "      <th>date</th>\n",
              "      <th>loyer_m2_appartement</th>\n",
              "    </tr>\n",
              "  </thead>\n",
              "  <tbody>\n",
              "    <tr>\n",
              "      <th>0</th>\n",
              "      <td>1</td>\n",
              "      <td>1</td>\n",
              "      <td>L'Abergement-Clémenciat</td>\n",
              "      <td>2018</td>\n",
              "      <td>9.372335</td>\n",
              "    </tr>\n",
              "    <tr>\n",
              "      <th>1</th>\n",
              "      <td>1</td>\n",
              "      <td>2</td>\n",
              "      <td>L'Abergement-de-Varey</td>\n",
              "      <td>2018</td>\n",
              "      <td>8.635552</td>\n",
              "    </tr>\n",
              "    <tr>\n",
              "      <th>2</th>\n",
              "      <td>1</td>\n",
              "      <td>4</td>\n",
              "      <td>Ambérieu-en-Bugey</td>\n",
              "      <td>2018</td>\n",
              "      <td>10.074507</td>\n",
              "    </tr>\n",
              "    <tr>\n",
              "      <th>3</th>\n",
              "      <td>1</td>\n",
              "      <td>5</td>\n",
              "      <td>Ambérieux-en-Dombes</td>\n",
              "      <td>2018</td>\n",
              "      <td>9.372335</td>\n",
              "    </tr>\n",
              "    <tr>\n",
              "      <th>4</th>\n",
              "      <td>1</td>\n",
              "      <td>6</td>\n",
              "      <td>Ambléon</td>\n",
              "      <td>2018</td>\n",
              "      <td>8.966955</td>\n",
              "    </tr>\n",
              "  </tbody>\n",
              "</table>\n",
              "</div>\n",
              "      <button class=\"colab-df-convert\" onclick=\"convertToInteractive('df-e2a7356b-12ca-4535-bd07-32c0705b0687')\"\n",
              "              title=\"Convert this dataframe to an interactive table.\"\n",
              "              style=\"display:none;\">\n",
              "        \n",
              "  <svg xmlns=\"http://www.w3.org/2000/svg\" height=\"24px\"viewBox=\"0 0 24 24\"\n",
              "       width=\"24px\">\n",
              "    <path d=\"M0 0h24v24H0V0z\" fill=\"none\"/>\n",
              "    <path d=\"M18.56 5.44l.94 2.06.94-2.06 2.06-.94-2.06-.94-.94-2.06-.94 2.06-2.06.94zm-11 1L8.5 8.5l.94-2.06 2.06-.94-2.06-.94L8.5 2.5l-.94 2.06-2.06.94zm10 10l.94 2.06.94-2.06 2.06-.94-2.06-.94-.94-2.06-.94 2.06-2.06.94z\"/><path d=\"M17.41 7.96l-1.37-1.37c-.4-.4-.92-.59-1.43-.59-.52 0-1.04.2-1.43.59L10.3 9.45l-7.72 7.72c-.78.78-.78 2.05 0 2.83L4 21.41c.39.39.9.59 1.41.59.51 0 1.02-.2 1.41-.59l7.78-7.78 2.81-2.81c.8-.78.8-2.07 0-2.86zM5.41 20L4 18.59l7.72-7.72 1.47 1.35L5.41 20z\"/>\n",
              "  </svg>\n",
              "      </button>\n",
              "      \n",
              "  <style>\n",
              "    .colab-df-container {\n",
              "      display:flex;\n",
              "      flex-wrap:wrap;\n",
              "      gap: 12px;\n",
              "    }\n",
              "\n",
              "    .colab-df-convert {\n",
              "      background-color: #E8F0FE;\n",
              "      border: none;\n",
              "      border-radius: 50%;\n",
              "      cursor: pointer;\n",
              "      display: none;\n",
              "      fill: #1967D2;\n",
              "      height: 32px;\n",
              "      padding: 0 0 0 0;\n",
              "      width: 32px;\n",
              "    }\n",
              "\n",
              "    .colab-df-convert:hover {\n",
              "      background-color: #E2EBFA;\n",
              "      box-shadow: 0px 1px 2px rgba(60, 64, 67, 0.3), 0px 1px 3px 1px rgba(60, 64, 67, 0.15);\n",
              "      fill: #174EA6;\n",
              "    }\n",
              "\n",
              "    [theme=dark] .colab-df-convert {\n",
              "      background-color: #3B4455;\n",
              "      fill: #D2E3FC;\n",
              "    }\n",
              "\n",
              "    [theme=dark] .colab-df-convert:hover {\n",
              "      background-color: #434B5C;\n",
              "      box-shadow: 0px 1px 3px 1px rgba(0, 0, 0, 0.15);\n",
              "      filter: drop-shadow(0px 1px 2px rgba(0, 0, 0, 0.3));\n",
              "      fill: #FFFFFF;\n",
              "    }\n",
              "  </style>\n",
              "\n",
              "      <script>\n",
              "        const buttonEl =\n",
              "          document.querySelector('#df-e2a7356b-12ca-4535-bd07-32c0705b0687 button.colab-df-convert');\n",
              "        buttonEl.style.display =\n",
              "          google.colab.kernel.accessAllowed ? 'block' : 'none';\n",
              "\n",
              "        async function convertToInteractive(key) {\n",
              "          const element = document.querySelector('#df-e2a7356b-12ca-4535-bd07-32c0705b0687');\n",
              "          const dataTable =\n",
              "            await google.colab.kernel.invokeFunction('convertToInteractive',\n",
              "                                                     [key], {});\n",
              "          if (!dataTable) return;\n",
              "\n",
              "          const docLinkHtml = 'Like what you see? Visit the ' +\n",
              "            '<a target=\"_blank\" href=https://colab.research.google.com/notebooks/data_table.ipynb>data table notebook</a>'\n",
              "            + ' to learn more about interactive tables.';\n",
              "          element.innerHTML = '';\n",
              "          dataTable['output_type'] = 'display_data';\n",
              "          await google.colab.output.renderOutput(dataTable, element);\n",
              "          const docLink = document.createElement('div');\n",
              "          docLink.innerHTML = docLinkHtml;\n",
              "          element.appendChild(docLink);\n",
              "        }\n",
              "      </script>\n",
              "    </div>\n",
              "  </div>\n",
              "  "
            ]
          },
          "metadata": {},
          "execution_count": 9
        }
      ]
    },
    {
      "cell_type": "code",
      "source": [
        "print(loyers_appartement.shape)"
      ],
      "metadata": {
        "colab": {
          "base_uri": "https://localhost:8080/"
        },
        "id": "3nPFudQTIOEw",
        "outputId": "dd99cb89-cbf9-46f5-b06e-073afb1554f2"
      },
      "execution_count": null,
      "outputs": [
        {
          "output_type": "stream",
          "name": "stdout",
          "text": [
            "(35441, 5)\n"
          ]
        }
      ]
    },
    {
      "cell_type": "code",
      "source": [
        "loyers_appartement.info()"
      ],
      "metadata": {
        "colab": {
          "base_uri": "https://localhost:8080/"
        },
        "id": "J2MAlB2YIb-V",
        "outputId": "a47f1475-0bb7-483d-f2b6-76fa0d4c78cc"
      },
      "execution_count": null,
      "outputs": [
        {
          "output_type": "stream",
          "name": "stdout",
          "text": [
            "<class 'pandas.core.frame.DataFrame'>\n",
            "Int64Index: 35441 entries, 0 to 35440\n",
            "Data columns (total 5 columns):\n",
            " #   Column                Non-Null Count  Dtype  \n",
            "---  ------                --------------  -----  \n",
            " 0   departement           35441 non-null  object \n",
            " 1   id_ville              35441 non-null  int64  \n",
            " 2   ville                 35441 non-null  object \n",
            " 3   date                  35441 non-null  int64  \n",
            " 4   loyer_m2_appartement  35441 non-null  float64\n",
            "dtypes: float64(1), int64(2), object(2)\n",
            "memory usage: 1.6+ MB\n"
          ]
        }
      ]
    },
    {
      "cell_type": "code",
      "source": [
        "loyers_appartement = loyers_appartement[loyers_appartement[\"departement\"].apply(lambda x: str(x).isdigit())]\n",
        "loyers_appartement[\"departement\"] = loyers_appartement[\"departement\"].astype(int)"
      ],
      "metadata": {
        "colab": {
          "base_uri": "https://localhost:8080/"
        },
        "id": "e1cV-NVlPezR",
        "outputId": "db442c67-cfdf-4aab-a6c8-c16d2b803495"
      },
      "execution_count": null,
      "outputs": [
        {
          "output_type": "stream",
          "name": "stderr",
          "text": [
            "<ipython-input-12-263ae3d13bb9>:2: SettingWithCopyWarning:\n",
            "\n",
            "\n",
            "A value is trying to be set on a copy of a slice from a DataFrame.\n",
            "Try using .loc[row_indexer,col_indexer] = value instead\n",
            "\n",
            "See the caveats in the documentation: https://pandas.pydata.org/pandas-docs/stable/user_guide/indexing.html#returning-a-view-versus-a-copy\n",
            "\n"
          ]
        }
      ]
    },
    {
      "cell_type": "code",
      "source": [
        "loyers_appartement.info()"
      ],
      "metadata": {
        "colab": {
          "base_uri": "https://localhost:8080/"
        },
        "id": "KL14TAey3I-H",
        "outputId": "c4178ba0-c746-44b4-9a49-fe281250d260"
      },
      "execution_count": null,
      "outputs": [
        {
          "output_type": "stream",
          "name": "stdout",
          "text": [
            "<class 'pandas.core.frame.DataFrame'>\n",
            "Int64Index: 35081 entries, 0 to 35440\n",
            "Data columns (total 5 columns):\n",
            " #   Column                Non-Null Count  Dtype  \n",
            "---  ------                --------------  -----  \n",
            " 0   departement           35081 non-null  int64  \n",
            " 1   id_ville              35081 non-null  int64  \n",
            " 2   ville                 35081 non-null  object \n",
            " 3   date                  35081 non-null  int64  \n",
            " 4   loyer_m2_appartement  35081 non-null  float64\n",
            "dtypes: float64(1), int64(3), object(1)\n",
            "memory usage: 1.6+ MB\n"
          ]
        }
      ]
    },
    {
      "cell_type": "code",
      "source": [
        "print('SALAIRE NET MOYEN : > 50 ans')\n",
        "print(\"la valeur minimale est :\", loyers_appartement['loyer_m2_appartement'].min())\n",
        "print(\"la valeur maximale est :\", loyers_appartement['loyer_m2_appartement'].max())\n",
        "print(\"la valeur mediane est :\", loyers_appartement['loyer_m2_appartement'].median(), '\\n')\n",
        "\n",
        "q1, q2, q3 = loyers_appartement['loyer_m2_appartement'].quantile(q=[0.25, 0.5, 0.75])\n",
        "\n",
        "print(\"les quartiles sont :\", 'q1 =', q1, ' / q2 = ', q2, ' / q3 = ', q3, '\\n')"
      ],
      "metadata": {
        "colab": {
          "base_uri": "https://localhost:8080/"
        },
        "id": "RYv9NoaDU31_",
        "outputId": "f4798b4d-87a7-4ff5-836d-6573e85ac396"
      },
      "execution_count": null,
      "outputs": [
        {
          "output_type": "stream",
          "name": "stdout",
          "text": [
            "SALAIRE NET MOYEN : > 50 ans\n",
            "la valeur minimale est : 5.375503373\n",
            "la valeur maximale est : 36.65443839\n",
            "la valeur mediane est : 8.560025212 \n",
            "\n",
            "les quartiles sont : q1 = 7.676384779  / q2 =  8.560025212  / q3 =  9.774472443 \n",
            "\n"
          ]
        }
      ]
    },
    {
      "cell_type": "code",
      "source": [
        "moyenne_X2 = loyers_appartement['loyer_m2_appartement'].mean()\n",
        "print(\"Moyenne calculée avec la commande python: \", moyenne_X2)\n",
        "print(\"\\n\")"
      ],
      "metadata": {
        "colab": {
          "base_uri": "https://localhost:8080/"
        },
        "id": "lsK-JyG3VSGX",
        "outputId": "3dee0eee-0b7d-4176-eb34-52ff205a68a7"
      },
      "execution_count": null,
      "outputs": [
        {
          "output_type": "stream",
          "name": "stdout",
          "text": [
            "Moyenne calculée avec la commande python:  8.986678916741942\n",
            "\n",
            "\n"
          ]
        }
      ]
    },
    {
      "cell_type": "code",
      "source": [
        "loyers_appartement.info()"
      ],
      "metadata": {
        "colab": {
          "base_uri": "https://localhost:8080/"
        },
        "id": "q7FAc2ekPtmv",
        "outputId": "713ce735-07ec-4af1-9912-19d7b654ec87"
      },
      "execution_count": null,
      "outputs": [
        {
          "output_type": "stream",
          "name": "stdout",
          "text": [
            "<class 'pandas.core.frame.DataFrame'>\n",
            "Int64Index: 35081 entries, 0 to 35440\n",
            "Data columns (total 5 columns):\n",
            " #   Column                Non-Null Count  Dtype  \n",
            "---  ------                --------------  -----  \n",
            " 0   departement           35081 non-null  int64  \n",
            " 1   id_ville              35081 non-null  int64  \n",
            " 2   ville                 35081 non-null  object \n",
            " 3   date                  35081 non-null  int64  \n",
            " 4   loyer_m2_appartement  35081 non-null  float64\n",
            "dtypes: float64(1), int64(3), object(1)\n",
            "memory usage: 1.6+ MB\n"
          ]
        }
      ]
    },
    {
      "cell_type": "code",
      "source": [
        "entreprise = entreprise[entreprise[\"CODGEO\"].apply(lambda x: str(x).isdigit())]\n",
        "entreprise[\"CODGEO\"] = entreprise[\"CODGEO\"].astype(int)\n",
        "entreprise[\"DEP\"] = entreprise[\"DEP\"].astype(int)"
      ],
      "metadata": {
        "colab": {
          "base_uri": "https://localhost:8080/"
        },
        "id": "KIzT9HzcvuQH",
        "outputId": "f54db906-b568-430f-d3e1-7eb809e5414b"
      },
      "execution_count": null,
      "outputs": [
        {
          "output_type": "stream",
          "name": "stderr",
          "text": [
            "<ipython-input-15-33e8fe2fe728>:2: SettingWithCopyWarning:\n",
            "\n",
            "\n",
            "A value is trying to be set on a copy of a slice from a DataFrame.\n",
            "Try using .loc[row_indexer,col_indexer] = value instead\n",
            "\n",
            "See the caveats in the documentation: https://pandas.pydata.org/pandas-docs/stable/user_guide/indexing.html#returning-a-view-versus-a-copy\n",
            "\n",
            "<ipython-input-15-33e8fe2fe728>:3: SettingWithCopyWarning:\n",
            "\n",
            "\n",
            "A value is trying to be set on a copy of a slice from a DataFrame.\n",
            "Try using .loc[row_indexer,col_indexer] = value instead\n",
            "\n",
            "See the caveats in the documentation: https://pandas.pydata.org/pandas-docs/stable/user_guide/indexing.html#returning-a-view-versus-a-copy\n",
            "\n"
          ]
        }
      ]
    },
    {
      "cell_type": "code",
      "source": [
        "total_entreprise = entreprise[['CODGEO','LIBGEO', 'REG', 'DEP', 'E14TST']]"
      ],
      "metadata": {
        "id": "0PMiWvnJvuep"
      },
      "execution_count": null,
      "outputs": []
    },
    {
      "cell_type": "code",
      "source": [
        "total_entreprise_geo = total_entreprise.merge(geo, how = 'left', left_on = 'CODGEO', right_on = 'code_insee')"
      ],
      "metadata": {
        "id": "lmqvO-sLvuka"
      },
      "execution_count": null,
      "outputs": []
    },
    {
      "cell_type": "code",
      "source": [
        "loyers.rename(columns = {'ville' : 'LIBGEO'}, inplace = True)"
      ],
      "metadata": {
        "id": "rXw5jQdcvup-"
      },
      "execution_count": null,
      "outputs": []
    },
    {
      "cell_type": "code",
      "source": [
        "loyers_geo = loyers.merge(total_entreprise_geo, on = 'LIBGEO', how = 'inner') "
      ],
      "metadata": {
        "id": "0ORYax0Rx_qX"
      },
      "execution_count": null,
      "outputs": []
    },
    {
      "cell_type": "code",
      "source": [
        "# 1\n",
        "geo[\"longitude\"] = geo[\"longitude\"].apply(lambda x: str(x).replace(',','.'))\n",
        "# 2\n",
        "mask = geo[\"longitude\"] == '-'\n",
        "geo.drop(geo[mask].index, inplace=True)\n",
        "# 3\n",
        "geo.dropna(subset = [\"longitude\", \"latitude\"], inplace=True)\n",
        "# 4\n",
        "geo[\"longitude\"] = geo[\"longitude\"].astype(float)"
      ],
      "metadata": {
        "id": "dyIf2YSgx_Pq"
      },
      "execution_count": null,
      "outputs": []
    },
    {
      "cell_type": "code",
      "source": [
        "geo.drop_duplicates(subset=[\"code_insee\"], keep=\"first\", inplace=True)"
      ],
      "metadata": {
        "id": "9b7Cga5yx_UI"
      },
      "execution_count": null,
      "outputs": []
    },
    {
      "cell_type": "code",
      "source": [
        "def distance(lon1, lat1, lon2, lat2):\n",
        "    # convert decimal degrees to radians \n",
        "    lon1 = radians(lon1)\n",
        "    lat1 = radians(lat1)\n",
        "    lon2 = radians(lon2)\n",
        "    lat2 = radians(lat2)\n",
        "    \n",
        "    # haversine formula \n",
        "    dlon = lon2 - lon1 \n",
        "    dlat = lat2 - lat1 \n",
        "    a = sin(dlat/2)**2 + cos(lat1) * cos(lat2) * sin(dlon/2)**2\n",
        "    c = 2 * asin(sqrt(a)) \n",
        "    \n",
        "    # Radius of earth in kilometers is 6371\n",
        "    km = 6371* c\n",
        "    return km\n",
        "\n",
        "def distance_bigger_than(limit, lon1, lat1, lon2, lat2):\n",
        "    dist = distance(lon1, lat1, lon2, lat2)\n",
        "    if dist > limit:\n",
        "        return 0\n",
        "    else:\n",
        "        return 1"
      ],
      "metadata": {
        "id": "Hxz24mRWx_YS"
      },
      "execution_count": null,
      "outputs": []
    },
    {
      "cell_type": "code",
      "source": [
        "# Extraction des coordonnées de Paris\n",
        "paris_lat = geo.loc[geo['nom_commune'] == \"Paris\"].iloc[0][\"latitude\"]\n",
        "paris_lon = geo.loc[geo['nom_commune'] == \"Paris\"].iloc[0][\"longitude\"]\n",
        "\n",
        "# auxiliary list that will hold calculated values of PARIS_CLOSE\n",
        "distances = []\n",
        "\n",
        "# calculating values of PARIS_CLOSE\n",
        "for index, row in geo.iterrows():\n",
        "    distances.append(distance_bigger_than(30, row[\"longitude\"], row[\"latitude\"], paris_lon, paris_lat))\n",
        "\n",
        "# adding new column to DataFrame\n",
        "geo[\"PARIS_CLOSE\"] = pd.Series(distances, index=geo.index)"
      ],
      "metadata": {
        "id": "yXU30_m7x_g4"
      },
      "execution_count": null,
      "outputs": []
    },
    {
      "cell_type": "code",
      "source": [
        "# extracting the coordinates of capitals of French provinces\n",
        "majors =  geo[geo[\"nom_commune\"] == geo[\"chef.lieu_région\"]]\n",
        "major_lats = majors[\"latitude\"].tolist()\n",
        "major_lons = majors[\"longitude\"].tolist()\n",
        "\n",
        "# auxiliary list that will hold calculated values of MAJOR_CITY_DISTANCE\n",
        "distances = []\n",
        "\n",
        "# calculating values of MAJOR_CITY_DISTANCE\n",
        "for index, row in geo.iterrows():\n",
        "    \n",
        "    single_distances = []\n",
        "    for lat, lon in zip(major_lats, major_lons):\n",
        "        single_distances.append(int(distance(row[\"longitude\"], row[\"latitude\"], lon, lat)))\n",
        "    \n",
        "    distances.append(min(single_distances))\n",
        "\n",
        "# adding new column to DataFrame\n",
        "geo[\"MAJOR_CITY_DISTANCE\"] = pd.Series(distances, index=geo.index)"
      ],
      "metadata": {
        "id": "TgkwfU9cx_l7"
      },
      "execution_count": null,
      "outputs": []
    },
    {
      "cell_type": "code",
      "source": [
        "geo.head()"
      ],
      "metadata": {
        "colab": {
          "base_uri": "https://localhost:8080/",
          "height": 374
        },
        "id": "Ih-tOuYyzZA4",
        "outputId": "42c71597-eb4e-4b0d-d25e-7208b81dcbaf"
      },
      "execution_count": null,
      "outputs": [
        {
          "output_type": "execute_result",
          "data": {
            "text/plain": [
              "  EU_circo  code_région   nom_région chef.lieu_région numéro_département  \\\n",
              "0  Sud-Est           82  Rhône-Alpes             Lyon                 01   \n",
              "1  Sud-Est           82  Rhône-Alpes             Lyon                 01   \n",
              "2  Sud-Est           82  Rhône-Alpes             Lyon                 01   \n",
              "3  Sud-Est           82  Rhône-Alpes             Lyon                 01   \n",
              "4  Sud-Est           82  Rhône-Alpes             Lyon                 01   \n",
              "\n",
              "  nom_département       préfecture  numéro_circonscription  \\\n",
              "0             Ain  Bourg-en-Bresse                       1   \n",
              "1             Ain  Bourg-en-Bresse                       1   \n",
              "2             Ain  Bourg-en-Bresse                       1   \n",
              "3             Ain  Bourg-en-Bresse                       1   \n",
              "4             Ain  Bourg-en-Bresse                       1   \n",
              "\n",
              "            nom_commune codes_postaux  code_insee   latitude  longitude  \\\n",
              "0              Attignat         01340        1024  46.283333   5.166667   \n",
              "1              Beaupont         01270        1029  46.400000   5.266667   \n",
              "2                  Bény         01370        1038  46.333333   5.283333   \n",
              "3             Béreyziat         01340        1040  46.366667   5.050000   \n",
              "4  Bohas-Meyriat-Rignat         01250        1245  46.133333   5.400000   \n",
              "\n",
              "   éloignement  PARIS_CLOSE  MAJOR_CITY_DISTANCE  \n",
              "0         1.21            0                   64  \n",
              "1         1.91            0                   79  \n",
              "2         1.51            0                   72  \n",
              "3         1.71            0                   70  \n",
              "4         1.01            0                   60  "
            ],
            "text/html": [
              "\n",
              "  <div id=\"df-1dba8afa-2b74-4364-80b3-67941226d7b7\">\n",
              "    <div class=\"colab-df-container\">\n",
              "      <div>\n",
              "<style scoped>\n",
              "    .dataframe tbody tr th:only-of-type {\n",
              "        vertical-align: middle;\n",
              "    }\n",
              "\n",
              "    .dataframe tbody tr th {\n",
              "        vertical-align: top;\n",
              "    }\n",
              "\n",
              "    .dataframe thead th {\n",
              "        text-align: right;\n",
              "    }\n",
              "</style>\n",
              "<table border=\"1\" class=\"dataframe\">\n",
              "  <thead>\n",
              "    <tr style=\"text-align: right;\">\n",
              "      <th></th>\n",
              "      <th>EU_circo</th>\n",
              "      <th>code_région</th>\n",
              "      <th>nom_région</th>\n",
              "      <th>chef.lieu_région</th>\n",
              "      <th>numéro_département</th>\n",
              "      <th>nom_département</th>\n",
              "      <th>préfecture</th>\n",
              "      <th>numéro_circonscription</th>\n",
              "      <th>nom_commune</th>\n",
              "      <th>codes_postaux</th>\n",
              "      <th>code_insee</th>\n",
              "      <th>latitude</th>\n",
              "      <th>longitude</th>\n",
              "      <th>éloignement</th>\n",
              "      <th>PARIS_CLOSE</th>\n",
              "      <th>MAJOR_CITY_DISTANCE</th>\n",
              "    </tr>\n",
              "  </thead>\n",
              "  <tbody>\n",
              "    <tr>\n",
              "      <th>0</th>\n",
              "      <td>Sud-Est</td>\n",
              "      <td>82</td>\n",
              "      <td>Rhône-Alpes</td>\n",
              "      <td>Lyon</td>\n",
              "      <td>01</td>\n",
              "      <td>Ain</td>\n",
              "      <td>Bourg-en-Bresse</td>\n",
              "      <td>1</td>\n",
              "      <td>Attignat</td>\n",
              "      <td>01340</td>\n",
              "      <td>1024</td>\n",
              "      <td>46.283333</td>\n",
              "      <td>5.166667</td>\n",
              "      <td>1.21</td>\n",
              "      <td>0</td>\n",
              "      <td>64</td>\n",
              "    </tr>\n",
              "    <tr>\n",
              "      <th>1</th>\n",
              "      <td>Sud-Est</td>\n",
              "      <td>82</td>\n",
              "      <td>Rhône-Alpes</td>\n",
              "      <td>Lyon</td>\n",
              "      <td>01</td>\n",
              "      <td>Ain</td>\n",
              "      <td>Bourg-en-Bresse</td>\n",
              "      <td>1</td>\n",
              "      <td>Beaupont</td>\n",
              "      <td>01270</td>\n",
              "      <td>1029</td>\n",
              "      <td>46.400000</td>\n",
              "      <td>5.266667</td>\n",
              "      <td>1.91</td>\n",
              "      <td>0</td>\n",
              "      <td>79</td>\n",
              "    </tr>\n",
              "    <tr>\n",
              "      <th>2</th>\n",
              "      <td>Sud-Est</td>\n",
              "      <td>82</td>\n",
              "      <td>Rhône-Alpes</td>\n",
              "      <td>Lyon</td>\n",
              "      <td>01</td>\n",
              "      <td>Ain</td>\n",
              "      <td>Bourg-en-Bresse</td>\n",
              "      <td>1</td>\n",
              "      <td>Bény</td>\n",
              "      <td>01370</td>\n",
              "      <td>1038</td>\n",
              "      <td>46.333333</td>\n",
              "      <td>5.283333</td>\n",
              "      <td>1.51</td>\n",
              "      <td>0</td>\n",
              "      <td>72</td>\n",
              "    </tr>\n",
              "    <tr>\n",
              "      <th>3</th>\n",
              "      <td>Sud-Est</td>\n",
              "      <td>82</td>\n",
              "      <td>Rhône-Alpes</td>\n",
              "      <td>Lyon</td>\n",
              "      <td>01</td>\n",
              "      <td>Ain</td>\n",
              "      <td>Bourg-en-Bresse</td>\n",
              "      <td>1</td>\n",
              "      <td>Béreyziat</td>\n",
              "      <td>01340</td>\n",
              "      <td>1040</td>\n",
              "      <td>46.366667</td>\n",
              "      <td>5.050000</td>\n",
              "      <td>1.71</td>\n",
              "      <td>0</td>\n",
              "      <td>70</td>\n",
              "    </tr>\n",
              "    <tr>\n",
              "      <th>4</th>\n",
              "      <td>Sud-Est</td>\n",
              "      <td>82</td>\n",
              "      <td>Rhône-Alpes</td>\n",
              "      <td>Lyon</td>\n",
              "      <td>01</td>\n",
              "      <td>Ain</td>\n",
              "      <td>Bourg-en-Bresse</td>\n",
              "      <td>1</td>\n",
              "      <td>Bohas-Meyriat-Rignat</td>\n",
              "      <td>01250</td>\n",
              "      <td>1245</td>\n",
              "      <td>46.133333</td>\n",
              "      <td>5.400000</td>\n",
              "      <td>1.01</td>\n",
              "      <td>0</td>\n",
              "      <td>60</td>\n",
              "    </tr>\n",
              "  </tbody>\n",
              "</table>\n",
              "</div>\n",
              "      <button class=\"colab-df-convert\" onclick=\"convertToInteractive('df-1dba8afa-2b74-4364-80b3-67941226d7b7')\"\n",
              "              title=\"Convert this dataframe to an interactive table.\"\n",
              "              style=\"display:none;\">\n",
              "        \n",
              "  <svg xmlns=\"http://www.w3.org/2000/svg\" height=\"24px\"viewBox=\"0 0 24 24\"\n",
              "       width=\"24px\">\n",
              "    <path d=\"M0 0h24v24H0V0z\" fill=\"none\"/>\n",
              "    <path d=\"M18.56 5.44l.94 2.06.94-2.06 2.06-.94-2.06-.94-.94-2.06-.94 2.06-2.06.94zm-11 1L8.5 8.5l.94-2.06 2.06-.94-2.06-.94L8.5 2.5l-.94 2.06-2.06.94zm10 10l.94 2.06.94-2.06 2.06-.94-2.06-.94-.94-2.06-.94 2.06-2.06.94z\"/><path d=\"M17.41 7.96l-1.37-1.37c-.4-.4-.92-.59-1.43-.59-.52 0-1.04.2-1.43.59L10.3 9.45l-7.72 7.72c-.78.78-.78 2.05 0 2.83L4 21.41c.39.39.9.59 1.41.59.51 0 1.02-.2 1.41-.59l7.78-7.78 2.81-2.81c.8-.78.8-2.07 0-2.86zM5.41 20L4 18.59l7.72-7.72 1.47 1.35L5.41 20z\"/>\n",
              "  </svg>\n",
              "      </button>\n",
              "      \n",
              "  <style>\n",
              "    .colab-df-container {\n",
              "      display:flex;\n",
              "      flex-wrap:wrap;\n",
              "      gap: 12px;\n",
              "    }\n",
              "\n",
              "    .colab-df-convert {\n",
              "      background-color: #E8F0FE;\n",
              "      border: none;\n",
              "      border-radius: 50%;\n",
              "      cursor: pointer;\n",
              "      display: none;\n",
              "      fill: #1967D2;\n",
              "      height: 32px;\n",
              "      padding: 0 0 0 0;\n",
              "      width: 32px;\n",
              "    }\n",
              "\n",
              "    .colab-df-convert:hover {\n",
              "      background-color: #E2EBFA;\n",
              "      box-shadow: 0px 1px 2px rgba(60, 64, 67, 0.3), 0px 1px 3px 1px rgba(60, 64, 67, 0.15);\n",
              "      fill: #174EA6;\n",
              "    }\n",
              "\n",
              "    [theme=dark] .colab-df-convert {\n",
              "      background-color: #3B4455;\n",
              "      fill: #D2E3FC;\n",
              "    }\n",
              "\n",
              "    [theme=dark] .colab-df-convert:hover {\n",
              "      background-color: #434B5C;\n",
              "      box-shadow: 0px 1px 3px 1px rgba(0, 0, 0, 0.15);\n",
              "      filter: drop-shadow(0px 1px 2px rgba(0, 0, 0, 0.3));\n",
              "      fill: #FFFFFF;\n",
              "    }\n",
              "  </style>\n",
              "\n",
              "      <script>\n",
              "        const buttonEl =\n",
              "          document.querySelector('#df-1dba8afa-2b74-4364-80b3-67941226d7b7 button.colab-df-convert');\n",
              "        buttonEl.style.display =\n",
              "          google.colab.kernel.accessAllowed ? 'block' : 'none';\n",
              "\n",
              "        async function convertToInteractive(key) {\n",
              "          const element = document.querySelector('#df-1dba8afa-2b74-4364-80b3-67941226d7b7');\n",
              "          const dataTable =\n",
              "            await google.colab.kernel.invokeFunction('convertToInteractive',\n",
              "                                                     [key], {});\n",
              "          if (!dataTable) return;\n",
              "\n",
              "          const docLinkHtml = 'Like what you see? Visit the ' +\n",
              "            '<a target=\"_blank\" href=https://colab.research.google.com/notebooks/data_table.ipynb>data table notebook</a>'\n",
              "            + ' to learn more about interactive tables.';\n",
              "          element.innerHTML = '';\n",
              "          dataTable['output_type'] = 'display_data';\n",
              "          await google.colab.output.renderOutput(dataTable, element);\n",
              "          const docLink = document.createElement('div');\n",
              "          docLink.innerHTML = docLinkHtml;\n",
              "          element.appendChild(docLink);\n",
              "        }\n",
              "      </script>\n",
              "    </div>\n",
              "  </div>\n",
              "  "
            ]
          },
          "metadata": {},
          "execution_count": 25
        }
      ]
    },
    {
      "cell_type": "code",
      "source": [
        "departements.rename(columns = {'nom' : 'nom_département'}, inplace = True)"
      ],
      "metadata": {
        "id": "A0UgL8PHxUKR"
      },
      "execution_count": null,
      "outputs": []
    },
    {
      "cell_type": "code",
      "source": [
        "loyers_geo.info()"
      ],
      "metadata": {
        "colab": {
          "base_uri": "https://localhost:8080/"
        },
        "id": "g-_vgpuzw4e4",
        "outputId": "b2e9180d-ebf5-489a-dcf7-d53da6954757"
      },
      "execution_count": null,
      "outputs": [
        {
          "output_type": "stream",
          "name": "stdout",
          "text": [
            "<class 'pandas.core.frame.DataFrame'>\n",
            "Int64Index: 85564 entries, 0 to 85563\n",
            "Data columns (total 24 columns):\n",
            " #   Column                  Non-Null Count  Dtype  \n",
            "---  ------                  --------------  -----  \n",
            " 0   departement             85564 non-null  object \n",
            " 1   id_ville                85564 non-null  int64  \n",
            " 2   LIBGEO                  85564 non-null  object \n",
            " 3   date                    85564 non-null  int64  \n",
            " 4   loyer_m2_appartement    85564 non-null  float64\n",
            " 5   loyer_m2_maison         85564 non-null  float64\n",
            " 6   CODGEO                  85564 non-null  int64  \n",
            " 7   REG                     85564 non-null  int64  \n",
            " 8   DEP                     85564 non-null  int64  \n",
            " 9   E14TST                  85564 non-null  int64  \n",
            " 10  EU_circo                85515 non-null  object \n",
            " 11  code_région             85515 non-null  float64\n",
            " 12  nom_région              85515 non-null  object \n",
            " 13  chef.lieu_région        85515 non-null  object \n",
            " 14  numéro_département      85515 non-null  object \n",
            " 15  nom_département         85515 non-null  object \n",
            " 16  préfecture              85515 non-null  object \n",
            " 17  numéro_circonscription  85515 non-null  float64\n",
            " 18  nom_commune             85515 non-null  object \n",
            " 19  codes_postaux           85515 non-null  object \n",
            " 20  code_insee              85515 non-null  float64\n",
            " 21  latitude                76449 non-null  float64\n",
            " 22  longitude               76747 non-null  object \n",
            " 23  éloignement             76449 non-null  float64\n",
            "dtypes: float64(7), int64(6), object(11)\n",
            "memory usage: 16.3+ MB\n"
          ]
        }
      ]
    },
    {
      "cell_type": "code",
      "source": [
        "departements.info()"
      ],
      "metadata": {
        "colab": {
          "base_uri": "https://localhost:8080/"
        },
        "id": "PqiJhBaPx-4_",
        "outputId": "b797fe93-53ff-4d6c-8102-ffefad523fc3"
      },
      "execution_count": null,
      "outputs": [
        {
          "output_type": "stream",
          "name": "stdout",
          "text": [
            "<class 'geopandas.geodataframe.GeoDataFrame'>\n",
            "RangeIndex: 96 entries, 0 to 95\n",
            "Data columns (total 3 columns):\n",
            " #   Column           Non-Null Count  Dtype   \n",
            "---  ------           --------------  -----   \n",
            " 0   code             96 non-null     object  \n",
            " 1   nom_département  96 non-null     object  \n",
            " 2   geometry         96 non-null     geometry\n",
            "dtypes: geometry(1), object(2)\n",
            "memory usage: 2.4+ KB\n"
          ]
        }
      ]
    },
    {
      "cell_type": "code",
      "source": [
        "departements.head()"
      ],
      "metadata": {
        "colab": {
          "base_uri": "https://localhost:8080/",
          "height": 206
        },
        "id": "1IwnK1MhxAyn",
        "outputId": "b365e0b2-0e9c-4064-9896-83d1103316ff"
      },
      "execution_count": null,
      "outputs": [
        {
          "output_type": "execute_result",
          "data": {
            "text/plain": [
              "  code nom_département                                           geometry\n",
              "0   02           Aisne  POLYGON ((3.17270 50.01200, 3.18220 50.01234, ...\n",
              "1   10            Aube  POLYGON ((3.41479 48.39027, 3.41660 48.39907, ...\n",
              "2   14        Calvados  POLYGON ((-1.11962 49.35557, -1.11503 49.36240...\n",
              "3   15          Cantal  POLYGON ((2.50841 45.47850, 2.52444 45.48070, ...\n",
              "4   28    Eure-et-Loir  POLYGON ((0.81483 48.67016, 0.82767 48.68072, ..."
            ],
            "text/html": [
              "\n",
              "  <div id=\"df-59a1b80c-f55a-4f05-9110-0505d9c3189c\">\n",
              "    <div class=\"colab-df-container\">\n",
              "      <div>\n",
              "<style scoped>\n",
              "    .dataframe tbody tr th:only-of-type {\n",
              "        vertical-align: middle;\n",
              "    }\n",
              "\n",
              "    .dataframe tbody tr th {\n",
              "        vertical-align: top;\n",
              "    }\n",
              "\n",
              "    .dataframe thead th {\n",
              "        text-align: right;\n",
              "    }\n",
              "</style>\n",
              "<table border=\"1\" class=\"dataframe\">\n",
              "  <thead>\n",
              "    <tr style=\"text-align: right;\">\n",
              "      <th></th>\n",
              "      <th>code</th>\n",
              "      <th>nom_département</th>\n",
              "      <th>geometry</th>\n",
              "    </tr>\n",
              "  </thead>\n",
              "  <tbody>\n",
              "    <tr>\n",
              "      <th>0</th>\n",
              "      <td>02</td>\n",
              "      <td>Aisne</td>\n",
              "      <td>POLYGON ((3.17270 50.01200, 3.18220 50.01234, ...</td>\n",
              "    </tr>\n",
              "    <tr>\n",
              "      <th>1</th>\n",
              "      <td>10</td>\n",
              "      <td>Aube</td>\n",
              "      <td>POLYGON ((3.41479 48.39027, 3.41660 48.39907, ...</td>\n",
              "    </tr>\n",
              "    <tr>\n",
              "      <th>2</th>\n",
              "      <td>14</td>\n",
              "      <td>Calvados</td>\n",
              "      <td>POLYGON ((-1.11962 49.35557, -1.11503 49.36240...</td>\n",
              "    </tr>\n",
              "    <tr>\n",
              "      <th>3</th>\n",
              "      <td>15</td>\n",
              "      <td>Cantal</td>\n",
              "      <td>POLYGON ((2.50841 45.47850, 2.52444 45.48070, ...</td>\n",
              "    </tr>\n",
              "    <tr>\n",
              "      <th>4</th>\n",
              "      <td>28</td>\n",
              "      <td>Eure-et-Loir</td>\n",
              "      <td>POLYGON ((0.81483 48.67016, 0.82767 48.68072, ...</td>\n",
              "    </tr>\n",
              "  </tbody>\n",
              "</table>\n",
              "</div>\n",
              "      <button class=\"colab-df-convert\" onclick=\"convertToInteractive('df-59a1b80c-f55a-4f05-9110-0505d9c3189c')\"\n",
              "              title=\"Convert this dataframe to an interactive table.\"\n",
              "              style=\"display:none;\">\n",
              "        \n",
              "  <svg xmlns=\"http://www.w3.org/2000/svg\" height=\"24px\"viewBox=\"0 0 24 24\"\n",
              "       width=\"24px\">\n",
              "    <path d=\"M0 0h24v24H0V0z\" fill=\"none\"/>\n",
              "    <path d=\"M18.56 5.44l.94 2.06.94-2.06 2.06-.94-2.06-.94-.94-2.06-.94 2.06-2.06.94zm-11 1L8.5 8.5l.94-2.06 2.06-.94-2.06-.94L8.5 2.5l-.94 2.06-2.06.94zm10 10l.94 2.06.94-2.06 2.06-.94-2.06-.94-.94-2.06-.94 2.06-2.06.94z\"/><path d=\"M17.41 7.96l-1.37-1.37c-.4-.4-.92-.59-1.43-.59-.52 0-1.04.2-1.43.59L10.3 9.45l-7.72 7.72c-.78.78-.78 2.05 0 2.83L4 21.41c.39.39.9.59 1.41.59.51 0 1.02-.2 1.41-.59l7.78-7.78 2.81-2.81c.8-.78.8-2.07 0-2.86zM5.41 20L4 18.59l7.72-7.72 1.47 1.35L5.41 20z\"/>\n",
              "  </svg>\n",
              "      </button>\n",
              "      \n",
              "  <style>\n",
              "    .colab-df-container {\n",
              "      display:flex;\n",
              "      flex-wrap:wrap;\n",
              "      gap: 12px;\n",
              "    }\n",
              "\n",
              "    .colab-df-convert {\n",
              "      background-color: #E8F0FE;\n",
              "      border: none;\n",
              "      border-radius: 50%;\n",
              "      cursor: pointer;\n",
              "      display: none;\n",
              "      fill: #1967D2;\n",
              "      height: 32px;\n",
              "      padding: 0 0 0 0;\n",
              "      width: 32px;\n",
              "    }\n",
              "\n",
              "    .colab-df-convert:hover {\n",
              "      background-color: #E2EBFA;\n",
              "      box-shadow: 0px 1px 2px rgba(60, 64, 67, 0.3), 0px 1px 3px 1px rgba(60, 64, 67, 0.15);\n",
              "      fill: #174EA6;\n",
              "    }\n",
              "\n",
              "    [theme=dark] .colab-df-convert {\n",
              "      background-color: #3B4455;\n",
              "      fill: #D2E3FC;\n",
              "    }\n",
              "\n",
              "    [theme=dark] .colab-df-convert:hover {\n",
              "      background-color: #434B5C;\n",
              "      box-shadow: 0px 1px 3px 1px rgba(0, 0, 0, 0.15);\n",
              "      filter: drop-shadow(0px 1px 2px rgba(0, 0, 0, 0.3));\n",
              "      fill: #FFFFFF;\n",
              "    }\n",
              "  </style>\n",
              "\n",
              "      <script>\n",
              "        const buttonEl =\n",
              "          document.querySelector('#df-59a1b80c-f55a-4f05-9110-0505d9c3189c button.colab-df-convert');\n",
              "        buttonEl.style.display =\n",
              "          google.colab.kernel.accessAllowed ? 'block' : 'none';\n",
              "\n",
              "        async function convertToInteractive(key) {\n",
              "          const element = document.querySelector('#df-59a1b80c-f55a-4f05-9110-0505d9c3189c');\n",
              "          const dataTable =\n",
              "            await google.colab.kernel.invokeFunction('convertToInteractive',\n",
              "                                                     [key], {});\n",
              "          if (!dataTable) return;\n",
              "\n",
              "          const docLinkHtml = 'Like what you see? Visit the ' +\n",
              "            '<a target=\"_blank\" href=https://colab.research.google.com/notebooks/data_table.ipynb>data table notebook</a>'\n",
              "            + ' to learn more about interactive tables.';\n",
              "          element.innerHTML = '';\n",
              "          dataTable['output_type'] = 'display_data';\n",
              "          await google.colab.output.renderOutput(dataTable, element);\n",
              "          const docLink = document.createElement('div');\n",
              "          docLink.innerHTML = docLinkHtml;\n",
              "          element.appendChild(docLink);\n",
              "        }\n",
              "      </script>\n",
              "    </div>\n",
              "  </div>\n",
              "  "
            ]
          },
          "metadata": {},
          "execution_count": 29
        }
      ]
    },
    {
      "cell_type": "code",
      "source": [
        "loyers_geo_group = loyers_geo.groupby(\"DEP\").mean()\n",
        "loyers_geo = departements.merge(loyers_geo, on=\"nom_département\", how ='inner')"
      ],
      "metadata": {
        "colab": {
          "base_uri": "https://localhost:8080/"
        },
        "id": "KF1JuvXr4v-m",
        "outputId": "57e268a3-4731-4362-8f2e-7d9848ddae43"
      },
      "execution_count": null,
      "outputs": [
        {
          "output_type": "stream",
          "name": "stderr",
          "text": [
            "<ipython-input-30-f7a8c2abc549>:1: FutureWarning:\n",
            "\n",
            "The default value of numeric_only in DataFrameGroupBy.mean is deprecated. In a future version, numeric_only will default to False. Either specify numeric_only or select only columns which should be valid for the function.\n",
            "\n"
          ]
        }
      ]
    },
    {
      "cell_type": "code",
      "source": [
        "loyers_geo_gr = loyers_geo.groupby(\"nom_département\").mean()"
      ],
      "metadata": {
        "colab": {
          "base_uri": "https://localhost:8080/"
        },
        "id": "mB8_nymVxrrZ",
        "outputId": "d66c7ee5-7a82-4fd0-91ba-6d0b903602ae"
      },
      "execution_count": null,
      "outputs": [
        {
          "output_type": "stream",
          "name": "stderr",
          "text": [
            "<ipython-input-31-4b4b4218d315>:1: FutureWarning:\n",
            "\n",
            "The default value of numeric_only in DataFrameGroupBy.mean is deprecated. In a future version, numeric_only will default to False. Either specify numeric_only or select only columns which should be valid for the function.\n",
            "\n"
          ]
        }
      ]
    },
    {
      "cell_type": "code",
      "source": [
        "loyers_geo_gr.dropna(subset = [\"latitude\"], inplace=True)"
      ],
      "metadata": {
        "id": "EkTH82civuun"
      },
      "execution_count": null,
      "outputs": []
    },
    {
      "cell_type": "code",
      "source": [
        "loyers_geo_gr.head()"
      ],
      "metadata": {
        "colab": {
          "base_uri": "https://localhost:8080/",
          "height": 319
        },
        "id": "ZyL2MJfgxmPo",
        "outputId": "8366e643-6b62-451a-d958-968485beb950"
      },
      "execution_count": null,
      "outputs": [
        {
          "output_type": "execute_result",
          "data": {
            "text/plain": [
              "                           id_ville         date  loyer_m2_appartement  \\\n",
              "nom_département                                                          \n",
              "Ain                      240.580612  2019.946939              9.759876   \n",
              "Aisne                    388.891271  2019.982644              8.963046   \n",
              "Allier                   186.748366  2019.986928              7.930537   \n",
              "Alpes-Maritimes          108.827763  2019.994859             12.543349   \n",
              "Alpes-de-Haute-Provence  148.564516  2019.991935              9.549345   \n",
              "\n",
              "                         loyer_m2_maison       CODGEO   REG  DEP       E14TST  \\\n",
              "nom_département                                                                 \n",
              "Ain                             8.788741  1240.375510  82.0  1.0    79.732653   \n",
              "Aisne                           7.281537  2422.398162  22.0  2.0    26.322103   \n",
              "Allier                          6.702132  3163.693900  83.0  3.0    57.465142   \n",
              "Alpes-Maritimes                12.254776  6083.285347  93.0  6.0  1269.817481   \n",
              "Alpes-de-Haute-Provence         8.390098  4128.590726  93.0  4.0    68.514113   \n",
              "\n",
              "                         code_région  numéro_circonscription   code_insee  \\\n",
              "nom_département                                                             \n",
              "Ain                             82.0                2.676531  1240.375510   \n",
              "Aisne                           22.0                3.086779  2422.398162   \n",
              "Allier                          83.0                2.620915  3163.693900   \n",
              "Alpes-Maritimes                 93.0                5.632391  6083.285347   \n",
              "Alpes-de-Haute-Provence         93.0                1.469758  4128.590726   \n",
              "\n",
              "                          latitude  éloignement  \n",
              "nom_département                                  \n",
              "Ain                      46.087951     1.467476  \n",
              "Aisne                    49.559634     1.538384  \n",
              "Allier                   46.355523     1.524500  \n",
              "Alpes-Maritimes          43.844521     1.414521  \n",
              "Alpes-de-Haute-Provence  44.068306     1.497166  "
            ],
            "text/html": [
              "\n",
              "  <div id=\"df-30af4baa-7c51-4745-a42f-43d37900744b\">\n",
              "    <div class=\"colab-df-container\">\n",
              "      <div>\n",
              "<style scoped>\n",
              "    .dataframe tbody tr th:only-of-type {\n",
              "        vertical-align: middle;\n",
              "    }\n",
              "\n",
              "    .dataframe tbody tr th {\n",
              "        vertical-align: top;\n",
              "    }\n",
              "\n",
              "    .dataframe thead th {\n",
              "        text-align: right;\n",
              "    }\n",
              "</style>\n",
              "<table border=\"1\" class=\"dataframe\">\n",
              "  <thead>\n",
              "    <tr style=\"text-align: right;\">\n",
              "      <th></th>\n",
              "      <th>id_ville</th>\n",
              "      <th>date</th>\n",
              "      <th>loyer_m2_appartement</th>\n",
              "      <th>loyer_m2_maison</th>\n",
              "      <th>CODGEO</th>\n",
              "      <th>REG</th>\n",
              "      <th>DEP</th>\n",
              "      <th>E14TST</th>\n",
              "      <th>code_région</th>\n",
              "      <th>numéro_circonscription</th>\n",
              "      <th>code_insee</th>\n",
              "      <th>latitude</th>\n",
              "      <th>éloignement</th>\n",
              "    </tr>\n",
              "    <tr>\n",
              "      <th>nom_département</th>\n",
              "      <th></th>\n",
              "      <th></th>\n",
              "      <th></th>\n",
              "      <th></th>\n",
              "      <th></th>\n",
              "      <th></th>\n",
              "      <th></th>\n",
              "      <th></th>\n",
              "      <th></th>\n",
              "      <th></th>\n",
              "      <th></th>\n",
              "      <th></th>\n",
              "      <th></th>\n",
              "    </tr>\n",
              "  </thead>\n",
              "  <tbody>\n",
              "    <tr>\n",
              "      <th>Ain</th>\n",
              "      <td>240.580612</td>\n",
              "      <td>2019.946939</td>\n",
              "      <td>9.759876</td>\n",
              "      <td>8.788741</td>\n",
              "      <td>1240.375510</td>\n",
              "      <td>82.0</td>\n",
              "      <td>1.0</td>\n",
              "      <td>79.732653</td>\n",
              "      <td>82.0</td>\n",
              "      <td>2.676531</td>\n",
              "      <td>1240.375510</td>\n",
              "      <td>46.087951</td>\n",
              "      <td>1.467476</td>\n",
              "    </tr>\n",
              "    <tr>\n",
              "      <th>Aisne</th>\n",
              "      <td>388.891271</td>\n",
              "      <td>2019.982644</td>\n",
              "      <td>8.963046</td>\n",
              "      <td>7.281537</td>\n",
              "      <td>2422.398162</td>\n",
              "      <td>22.0</td>\n",
              "      <td>2.0</td>\n",
              "      <td>26.322103</td>\n",
              "      <td>22.0</td>\n",
              "      <td>3.086779</td>\n",
              "      <td>2422.398162</td>\n",
              "      <td>49.559634</td>\n",
              "      <td>1.538384</td>\n",
              "    </tr>\n",
              "    <tr>\n",
              "      <th>Allier</th>\n",
              "      <td>186.748366</td>\n",
              "      <td>2019.986928</td>\n",
              "      <td>7.930537</td>\n",
              "      <td>6.702132</td>\n",
              "      <td>3163.693900</td>\n",
              "      <td>83.0</td>\n",
              "      <td>3.0</td>\n",
              "      <td>57.465142</td>\n",
              "      <td>83.0</td>\n",
              "      <td>2.620915</td>\n",
              "      <td>3163.693900</td>\n",
              "      <td>46.355523</td>\n",
              "      <td>1.524500</td>\n",
              "    </tr>\n",
              "    <tr>\n",
              "      <th>Alpes-Maritimes</th>\n",
              "      <td>108.827763</td>\n",
              "      <td>2019.994859</td>\n",
              "      <td>12.543349</td>\n",
              "      <td>12.254776</td>\n",
              "      <td>6083.285347</td>\n",
              "      <td>93.0</td>\n",
              "      <td>6.0</td>\n",
              "      <td>1269.817481</td>\n",
              "      <td>93.0</td>\n",
              "      <td>5.632391</td>\n",
              "      <td>6083.285347</td>\n",
              "      <td>43.844521</td>\n",
              "      <td>1.414521</td>\n",
              "    </tr>\n",
              "    <tr>\n",
              "      <th>Alpes-de-Haute-Provence</th>\n",
              "      <td>148.564516</td>\n",
              "      <td>2019.991935</td>\n",
              "      <td>9.549345</td>\n",
              "      <td>8.390098</td>\n",
              "      <td>4128.590726</td>\n",
              "      <td>93.0</td>\n",
              "      <td>4.0</td>\n",
              "      <td>68.514113</td>\n",
              "      <td>93.0</td>\n",
              "      <td>1.469758</td>\n",
              "      <td>4128.590726</td>\n",
              "      <td>44.068306</td>\n",
              "      <td>1.497166</td>\n",
              "    </tr>\n",
              "  </tbody>\n",
              "</table>\n",
              "</div>\n",
              "      <button class=\"colab-df-convert\" onclick=\"convertToInteractive('df-30af4baa-7c51-4745-a42f-43d37900744b')\"\n",
              "              title=\"Convert this dataframe to an interactive table.\"\n",
              "              style=\"display:none;\">\n",
              "        \n",
              "  <svg xmlns=\"http://www.w3.org/2000/svg\" height=\"24px\"viewBox=\"0 0 24 24\"\n",
              "       width=\"24px\">\n",
              "    <path d=\"M0 0h24v24H0V0z\" fill=\"none\"/>\n",
              "    <path d=\"M18.56 5.44l.94 2.06.94-2.06 2.06-.94-2.06-.94-.94-2.06-.94 2.06-2.06.94zm-11 1L8.5 8.5l.94-2.06 2.06-.94-2.06-.94L8.5 2.5l-.94 2.06-2.06.94zm10 10l.94 2.06.94-2.06 2.06-.94-2.06-.94-.94-2.06-.94 2.06-2.06.94z\"/><path d=\"M17.41 7.96l-1.37-1.37c-.4-.4-.92-.59-1.43-.59-.52 0-1.04.2-1.43.59L10.3 9.45l-7.72 7.72c-.78.78-.78 2.05 0 2.83L4 21.41c.39.39.9.59 1.41.59.51 0 1.02-.2 1.41-.59l7.78-7.78 2.81-2.81c.8-.78.8-2.07 0-2.86zM5.41 20L4 18.59l7.72-7.72 1.47 1.35L5.41 20z\"/>\n",
              "  </svg>\n",
              "      </button>\n",
              "      \n",
              "  <style>\n",
              "    .colab-df-container {\n",
              "      display:flex;\n",
              "      flex-wrap:wrap;\n",
              "      gap: 12px;\n",
              "    }\n",
              "\n",
              "    .colab-df-convert {\n",
              "      background-color: #E8F0FE;\n",
              "      border: none;\n",
              "      border-radius: 50%;\n",
              "      cursor: pointer;\n",
              "      display: none;\n",
              "      fill: #1967D2;\n",
              "      height: 32px;\n",
              "      padding: 0 0 0 0;\n",
              "      width: 32px;\n",
              "    }\n",
              "\n",
              "    .colab-df-convert:hover {\n",
              "      background-color: #E2EBFA;\n",
              "      box-shadow: 0px 1px 2px rgba(60, 64, 67, 0.3), 0px 1px 3px 1px rgba(60, 64, 67, 0.15);\n",
              "      fill: #174EA6;\n",
              "    }\n",
              "\n",
              "    [theme=dark] .colab-df-convert {\n",
              "      background-color: #3B4455;\n",
              "      fill: #D2E3FC;\n",
              "    }\n",
              "\n",
              "    [theme=dark] .colab-df-convert:hover {\n",
              "      background-color: #434B5C;\n",
              "      box-shadow: 0px 1px 3px 1px rgba(0, 0, 0, 0.15);\n",
              "      filter: drop-shadow(0px 1px 2px rgba(0, 0, 0, 0.3));\n",
              "      fill: #FFFFFF;\n",
              "    }\n",
              "  </style>\n",
              "\n",
              "      <script>\n",
              "        const buttonEl =\n",
              "          document.querySelector('#df-30af4baa-7c51-4745-a42f-43d37900744b button.colab-df-convert');\n",
              "        buttonEl.style.display =\n",
              "          google.colab.kernel.accessAllowed ? 'block' : 'none';\n",
              "\n",
              "        async function convertToInteractive(key) {\n",
              "          const element = document.querySelector('#df-30af4baa-7c51-4745-a42f-43d37900744b');\n",
              "          const dataTable =\n",
              "            await google.colab.kernel.invokeFunction('convertToInteractive',\n",
              "                                                     [key], {});\n",
              "          if (!dataTable) return;\n",
              "\n",
              "          const docLinkHtml = 'Like what you see? Visit the ' +\n",
              "            '<a target=\"_blank\" href=https://colab.research.google.com/notebooks/data_table.ipynb>data table notebook</a>'\n",
              "            + ' to learn more about interactive tables.';\n",
              "          element.innerHTML = '';\n",
              "          dataTable['output_type'] = 'display_data';\n",
              "          await google.colab.output.renderOutput(dataTable, element);\n",
              "          const docLink = document.createElement('div');\n",
              "          docLink.innerHTML = docLinkHtml;\n",
              "          element.appendChild(docLink);\n",
              "        }\n",
              "      </script>\n",
              "    </div>\n",
              "  </div>\n",
              "  "
            ]
          },
          "metadata": {},
          "execution_count": 33
        }
      ]
    },
    {
      "cell_type": "code",
      "source": [
        "loyers_geo_gr.reset_index(level=0, inplace=True)"
      ],
      "metadata": {
        "id": "g6PoTWLEyVwW"
      },
      "execution_count": null,
      "outputs": []
    },
    {
      "cell_type": "code",
      "source": [
        "loyers_geo_bis = loyers_geo_gr.merge(geo, on=\"nom_département\", how ='inner')"
      ],
      "metadata": {
        "id": "LHo7ey_W0Bx9"
      },
      "execution_count": null,
      "outputs": []
    },
    {
      "cell_type": "code",
      "source": [
        "plt.figure(figsize=(40, 20))\n",
        "plt.title(label = 'Prix au m2 des appartements')\n",
        "sns.barplot(x= loyers_geo_gr['nom_département'], y = loyers_geo_gr['loyer_m2_appartement'], data=loyers_geo_gr);"
      ],
      "metadata": {
        "colab": {
          "base_uri": "https://localhost:8080/",
          "height": 606
        },
        "id": "qEq6qgNBPzl7",
        "outputId": "92cee597-494b-4b88-d6d0-538e3e1dcf40"
      },
      "execution_count": null,
      "outputs": [
        {
          "output_type": "display_data",
          "data": {
            "text/plain": [
              "<Figure size 4000x2000 with 1 Axes>"
            ],
            "image/png": "[encoded data removed]"
          },
          "metadata": {}
        }
      ]
    }
  ]
}